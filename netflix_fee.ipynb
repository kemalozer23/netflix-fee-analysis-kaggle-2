{
 "cells": [
  {
   "cell_type": "code",
   "execution_count": 1,
   "metadata": {},
   "outputs": [],
   "source": [
    "import numpy as np\n",
    "import pandas as pd\n",
    "\n",
    "import plotly.express as px\n",
    "import plotly.graph_objects as go\n",
    "import plotly.figure_factory as ff"
   ]
  },
  {
   "cell_type": "code",
   "execution_count": 2,
   "metadata": {},
   "outputs": [],
   "source": [
    "data = pd.read_csv(\"netflix price in different countries.csv\")"
   ]
  },
  {
   "cell_type": "code",
   "execution_count": 3,
   "metadata": {},
   "outputs": [],
   "source": [
    "df = data.copy()"
   ]
  },
  {
   "cell_type": "code",
   "execution_count": 10,
   "metadata": {},
   "outputs": [
    {
     "data": {
      "text/html": [
       "<div>\n",
       "<style scoped>\n",
       "    .dataframe tbody tr th:only-of-type {\n",
       "        vertical-align: middle;\n",
       "    }\n",
       "\n",
       "    .dataframe tbody tr th {\n",
       "        vertical-align: top;\n",
       "    }\n",
       "\n",
       "    .dataframe thead th {\n",
       "        text-align: right;\n",
       "    }\n",
       "</style>\n",
       "<table border=\"1\" class=\"dataframe\">\n",
       "  <thead>\n",
       "    <tr style=\"text-align: right;\">\n",
       "      <th></th>\n",
       "      <th>Country</th>\n",
       "      <th>Total Library Size</th>\n",
       "      <th>No. of TV Shows</th>\n",
       "      <th>No. of Movies</th>\n",
       "      <th>Cost Per Month - Basic ($)</th>\n",
       "      <th>Cost Per Month - Standard ($)</th>\n",
       "      <th>Cost Per Month - Premium ($)</th>\n",
       "    </tr>\n",
       "  </thead>\n",
       "  <tbody>\n",
       "    <tr>\n",
       "      <th>0</th>\n",
       "      <td>Argentina</td>\n",
       "      <td>4760</td>\n",
       "      <td>3154</td>\n",
       "      <td>1606</td>\n",
       "      <td>3.74</td>\n",
       "      <td>6.30</td>\n",
       "      <td>9.26</td>\n",
       "    </tr>\n",
       "    <tr>\n",
       "      <th>1</th>\n",
       "      <td>Austria</td>\n",
       "      <td>5640</td>\n",
       "      <td>3779</td>\n",
       "      <td>1861</td>\n",
       "      <td>9.03</td>\n",
       "      <td>14.67</td>\n",
       "      <td>20.32</td>\n",
       "    </tr>\n",
       "    <tr>\n",
       "      <th>2</th>\n",
       "      <td>Bolivia</td>\n",
       "      <td>4991</td>\n",
       "      <td>3155</td>\n",
       "      <td>1836</td>\n",
       "      <td>7.99</td>\n",
       "      <td>10.99</td>\n",
       "      <td>13.99</td>\n",
       "    </tr>\n",
       "    <tr>\n",
       "      <th>3</th>\n",
       "      <td>Bulgaria</td>\n",
       "      <td>6797</td>\n",
       "      <td>4819</td>\n",
       "      <td>1978</td>\n",
       "      <td>9.03</td>\n",
       "      <td>11.29</td>\n",
       "      <td>13.54</td>\n",
       "    </tr>\n",
       "    <tr>\n",
       "      <th>4</th>\n",
       "      <td>Chile</td>\n",
       "      <td>4994</td>\n",
       "      <td>3156</td>\n",
       "      <td>1838</td>\n",
       "      <td>7.07</td>\n",
       "      <td>9.91</td>\n",
       "      <td>12.74</td>\n",
       "    </tr>\n",
       "  </tbody>\n",
       "</table>\n",
       "</div>"
      ],
      "text/plain": [
       "     Country  Total Library Size  No. of TV Shows  No. of Movies  \\\n",
       "0  Argentina                4760             3154           1606   \n",
       "1    Austria                5640             3779           1861   \n",
       "2    Bolivia                4991             3155           1836   \n",
       "3   Bulgaria                6797             4819           1978   \n",
       "4      Chile                4994             3156           1838   \n",
       "\n",
       "   Cost Per Month - Basic ($)  Cost Per Month - Standard ($)  \\\n",
       "0                        3.74                           6.30   \n",
       "1                        9.03                          14.67   \n",
       "2                        7.99                          10.99   \n",
       "3                        9.03                          11.29   \n",
       "4                        7.07                           9.91   \n",
       "\n",
       "   Cost Per Month - Premium ($)  \n",
       "0                          9.26  \n",
       "1                         20.32  \n",
       "2                         13.99  \n",
       "3                         13.54  \n",
       "4                         12.74  "
      ]
     },
     "execution_count": 10,
     "metadata": {},
     "output_type": "execute_result"
    }
   ],
   "source": [
    "df.head()"
   ]
  },
  {
   "cell_type": "code",
   "execution_count": null,
   "metadata": {},
   "outputs": [],
   "source": [
    "df.info()"
   ]
  },
  {
   "cell_type": "code",
   "execution_count": null,
   "metadata": {},
   "outputs": [],
   "source": [
    "df.describe()"
   ]
  },
  {
   "cell_type": "code",
   "execution_count": 265,
   "metadata": {},
   "outputs": [
    {
     "data": {
      "text/html": [
       "<div>\n",
       "<style scoped>\n",
       "    .dataframe tbody tr th:only-of-type {\n",
       "        vertical-align: middle;\n",
       "    }\n",
       "\n",
       "    .dataframe tbody tr th {\n",
       "        vertical-align: top;\n",
       "    }\n",
       "\n",
       "    .dataframe thead th {\n",
       "        text-align: right;\n",
       "    }\n",
       "</style>\n",
       "<table border=\"1\" class=\"dataframe\">\n",
       "  <thead>\n",
       "    <tr style=\"text-align: right;\">\n",
       "      <th></th>\n",
       "      <th>Country</th>\n",
       "      <th>Total Library Size</th>\n",
       "      <th>No. of TV Shows</th>\n",
       "      <th>No. of Movies</th>\n",
       "    </tr>\n",
       "  </thead>\n",
       "  <tbody>\n",
       "    <tr>\n",
       "      <th>0</th>\n",
       "      <td>Czechia</td>\n",
       "      <td>7325</td>\n",
       "      <td>5234</td>\n",
       "      <td>2091</td>\n",
       "    </tr>\n",
       "    <tr>\n",
       "      <th>1</th>\n",
       "      <td>Slovakia</td>\n",
       "      <td>7035</td>\n",
       "      <td>5055</td>\n",
       "      <td>1980</td>\n",
       "    </tr>\n",
       "    <tr>\n",
       "      <th>2</th>\n",
       "      <td>Hungary</td>\n",
       "      <td>6884</td>\n",
       "      <td>4802</td>\n",
       "      <td>2082</td>\n",
       "    </tr>\n",
       "    <tr>\n",
       "      <th>3</th>\n",
       "      <td>Bulgaria</td>\n",
       "      <td>6797</td>\n",
       "      <td>4819</td>\n",
       "      <td>1978</td>\n",
       "    </tr>\n",
       "    <tr>\n",
       "      <th>4</th>\n",
       "      <td>United Kingdom</td>\n",
       "      <td>6643</td>\n",
       "      <td>4551</td>\n",
       "      <td>2092</td>\n",
       "    </tr>\n",
       "    <tr>\n",
       "      <th>...</th>\n",
       "      <td>...</td>\n",
       "      <td>...</td>\n",
       "      <td>...</td>\n",
       "      <td>...</td>\n",
       "    </tr>\n",
       "    <tr>\n",
       "      <th>60</th>\n",
       "      <td>Moldova</td>\n",
       "      <td>3937</td>\n",
       "      <td>2473</td>\n",
       "      <td>1464</td>\n",
       "    </tr>\n",
       "    <tr>\n",
       "      <th>61</th>\n",
       "      <td>Indonesia</td>\n",
       "      <td>3887</td>\n",
       "      <td>2449</td>\n",
       "      <td>1438</td>\n",
       "    </tr>\n",
       "    <tr>\n",
       "      <th>62</th>\n",
       "      <td>Liechtenstein</td>\n",
       "      <td>3048</td>\n",
       "      <td>1712</td>\n",
       "      <td>1336</td>\n",
       "    </tr>\n",
       "    <tr>\n",
       "      <th>63</th>\n",
       "      <td>San Marino</td>\n",
       "      <td>2310</td>\n",
       "      <td>1937</td>\n",
       "      <td>373</td>\n",
       "    </tr>\n",
       "    <tr>\n",
       "      <th>64</th>\n",
       "      <td>Croatia</td>\n",
       "      <td>2274</td>\n",
       "      <td>1675</td>\n",
       "      <td>599</td>\n",
       "    </tr>\n",
       "  </tbody>\n",
       "</table>\n",
       "<p>65 rows × 4 columns</p>\n",
       "</div>"
      ],
      "text/plain": [
       "           Country  Total Library Size  No. of TV Shows  No. of Movies\n",
       "0          Czechia                7325             5234           2091\n",
       "1         Slovakia                7035             5055           1980\n",
       "2          Hungary                6884             4802           2082\n",
       "3         Bulgaria                6797             4819           1978\n",
       "4   United Kingdom                6643             4551           2092\n",
       "..             ...                 ...              ...            ...\n",
       "60         Moldova                3937             2473           1464\n",
       "61       Indonesia                3887             2449           1438\n",
       "62   Liechtenstein                3048             1712           1336\n",
       "63      San Marino                2310             1937            373\n",
       "64         Croatia                2274             1675            599\n",
       "\n",
       "[65 rows x 4 columns]"
      ]
     },
     "execution_count": 265,
     "metadata": {},
     "output_type": "execute_result"
    }
   ],
   "source": [
    "# Total Library Size for each Country\n",
    "\n",
    "df.iloc[:,:4].sort_values(by=\"Total Library Size\", ascending=False).reset_index(drop=True)"
   ]
  },
  {
   "cell_type": "code",
   "execution_count": 10,
   "metadata": {},
   "outputs": [
    {
     "data": {
      "text/html": [
       "<div>\n",
       "<style scoped>\n",
       "    .dataframe tbody tr th:only-of-type {\n",
       "        vertical-align: middle;\n",
       "    }\n",
       "\n",
       "    .dataframe tbody tr th {\n",
       "        vertical-align: top;\n",
       "    }\n",
       "\n",
       "    .dataframe thead th {\n",
       "        text-align: right;\n",
       "    }\n",
       "</style>\n",
       "<table border=\"1\" class=\"dataframe\">\n",
       "  <thead>\n",
       "    <tr style=\"text-align: right;\">\n",
       "      <th></th>\n",
       "      <th>Country</th>\n",
       "      <th>Total Library Size</th>\n",
       "      <th>No. of TV Shows</th>\n",
       "      <th>No. of Movies</th>\n",
       "    </tr>\n",
       "  </thead>\n",
       "  <tbody>\n",
       "    <tr>\n",
       "      <th>0</th>\n",
       "      <td>Czechia</td>\n",
       "      <td>7325</td>\n",
       "      <td>5234</td>\n",
       "      <td>2091</td>\n",
       "    </tr>\n",
       "    <tr>\n",
       "      <th>1</th>\n",
       "      <td>Slovakia</td>\n",
       "      <td>7035</td>\n",
       "      <td>5055</td>\n",
       "      <td>1980</td>\n",
       "    </tr>\n",
       "    <tr>\n",
       "      <th>2</th>\n",
       "      <td>Hungary</td>\n",
       "      <td>6884</td>\n",
       "      <td>4802</td>\n",
       "      <td>2082</td>\n",
       "    </tr>\n",
       "    <tr>\n",
       "      <th>3</th>\n",
       "      <td>Bulgaria</td>\n",
       "      <td>6797</td>\n",
       "      <td>4819</td>\n",
       "      <td>1978</td>\n",
       "    </tr>\n",
       "    <tr>\n",
       "      <th>4</th>\n",
       "      <td>United Kingdom</td>\n",
       "      <td>6643</td>\n",
       "      <td>4551</td>\n",
       "      <td>2092</td>\n",
       "    </tr>\n",
       "    <tr>\n",
       "      <th>5</th>\n",
       "      <td>Ireland</td>\n",
       "      <td>6486</td>\n",
       "      <td>4515</td>\n",
       "      <td>1971</td>\n",
       "    </tr>\n",
       "    <tr>\n",
       "      <th>6</th>\n",
       "      <td>Lithuania</td>\n",
       "      <td>6462</td>\n",
       "      <td>4490</td>\n",
       "      <td>1972</td>\n",
       "    </tr>\n",
       "    <tr>\n",
       "      <th>7</th>\n",
       "      <td>Estonia</td>\n",
       "      <td>6456</td>\n",
       "      <td>4486</td>\n",
       "      <td>1970</td>\n",
       "    </tr>\n",
       "    <tr>\n",
       "      <th>8</th>\n",
       "      <td>Latvia</td>\n",
       "      <td>6450</td>\n",
       "      <td>4479</td>\n",
       "      <td>1971</td>\n",
       "    </tr>\n",
       "    <tr>\n",
       "      <th>9</th>\n",
       "      <td>Iceland</td>\n",
       "      <td>6387</td>\n",
       "      <td>4426</td>\n",
       "      <td>1961</td>\n",
       "    </tr>\n",
       "  </tbody>\n",
       "</table>\n",
       "</div>"
      ],
      "text/plain": [
       "          Country  Total Library Size  No. of TV Shows  No. of Movies\n",
       "0         Czechia                7325             5234           2091\n",
       "1        Slovakia                7035             5055           1980\n",
       "2         Hungary                6884             4802           2082\n",
       "3        Bulgaria                6797             4819           1978\n",
       "4  United Kingdom                6643             4551           2092\n",
       "5         Ireland                6486             4515           1971\n",
       "6       Lithuania                6462             4490           1972\n",
       "7         Estonia                6456             4486           1970\n",
       "8          Latvia                6450             4479           1971\n",
       "9         Iceland                6387             4426           1961"
      ]
     },
     "execution_count": 10,
     "metadata": {},
     "output_type": "execute_result"
    }
   ],
   "source": [
    "# Total Library Size for each Country (Largest Top 10)\n",
    "\n",
    "df_top = df.iloc[:,:4].sort_values(by=\"Total Library Size\", ascending=False).reset_index(drop=True)[:10]\n",
    "df_top"
   ]
  },
  {
   "cell_type": "code",
   "execution_count": 11,
   "metadata": {},
   "outputs": [],
   "source": [
    "df_top[\"NTS\"] = df_top[\"No. of TV Shows\"].apply(lambda x : \"TV Shows: \" + str(x))\n",
    "df_top[\"NM\"] = df_top[\"No. of Movies\"].apply(lambda x : \"Movies: \" + str(x))\n",
    "df_top[\"TLS\"] = df_top[\"Total Library Size\"].apply(lambda x : \"Total: \" + str(x))"
   ]
  },
  {
   "cell_type": "code",
   "execution_count": null,
   "metadata": {},
   "outputs": [],
   "source": [
    "fig1 = px.bar(df_top,\n",
    "            x=\"Country\",\n",
    "            y=\"No. of TV Shows\",\n",
    "            custom_data=[\"NTS\"],\n",
    "            color_discrete_sequence=[\"rgb(255,49,38)\"])\n",
    "\n",
    "fig1.update_traces(hovertemplate=\"<br>\".join([\"<b>%{customdata[0]}<b>\"]))\n",
    "\n",
    "fig2 = px.bar(df_top,\n",
    "            x=\"Country\",\n",
    "            y=\"No. of Movies\",\n",
    "            custom_data=[\"NM\"],\n",
    "            color_discrete_sequence=[\"rgb(29,28,26)\"])\n",
    "\n",
    "fig2.update_traces(hovertemplate=\"<br>\".join([\"<b>%{customdata[0]}<b>\"]))\n",
    "\n",
    "fig3 = px.line(df_top,\n",
    "            x=\"Country\",\n",
    "            y=\"Total Library Size\",\n",
    "            custom_data=[\"TLS\"],\n",
    "            color_discrete_sequence=[\"rgb(29,28,26)\"])\n",
    "\n",
    "fig3.update_traces(hovertemplate=\"<br>\".join([\"<b>%{customdata[0]}<b>\"]))\n",
    "\n",
    "fig_top = go.Figure(data= fig1.data + fig2.data + fig3.data)\n",
    "\n",
    "fig_top.add_layout_image(\n",
    "    dict(\n",
    "        source=\"https://upload.wikimedia.org/wikipedia/commons/thumb/f/ff/Netflix-new-icon.png/768px-Netflix-new-icon.png\",\n",
    "        xref=\"paper\", yref=\"paper\",\n",
    "        x=0, y=1.083,\n",
    "        sizex=0.25, sizey=0.25,\n",
    "        xanchor=\"right\", yanchor=\"bottom\"\n",
    "    )\n",
    ")\n",
    "\n",
    "fig_top.update_layout(\n",
    "    hoverlabel=dict(\n",
    "        bgcolor=\"white\",\n",
    "        font_color=\"black\",\n",
    "        font_size=13,\n",
    "        font_family=\"Rockwell\"\n",
    "    )\n",
    ")\n",
    "\n",
    "fig_top.update_yaxes(visible=False)\n",
    "fig_top.update_xaxes(showline=False, tickfont=dict(size=15))\n",
    "\n",
    "fig_top.update_layout(hovermode=\"x unified\", template=\"simple_white\", title=\"LARGEST LIBRARY SIZES\")\n",
    "\n",
    "fig_top.update_layout(title_x=0.5,\n",
    "    font_family=\"Rockwell\",\n",
    "    font_size=15,\n",
    "    legend=dict(\n",
    "        orientation=\"h\", y=1, yanchor=\"bottom\", x=0.5, xanchor=\"center\"\n",
    "    )\n",
    ")"
   ]
  },
  {
   "cell_type": "code",
   "execution_count": 5,
   "metadata": {},
   "outputs": [
    {
     "data": {
      "text/html": [
       "<div>\n",
       "<style scoped>\n",
       "    .dataframe tbody tr th:only-of-type {\n",
       "        vertical-align: middle;\n",
       "    }\n",
       "\n",
       "    .dataframe tbody tr th {\n",
       "        vertical-align: top;\n",
       "    }\n",
       "\n",
       "    .dataframe thead th {\n",
       "        text-align: right;\n",
       "    }\n",
       "</style>\n",
       "<table border=\"1\" class=\"dataframe\">\n",
       "  <thead>\n",
       "    <tr style=\"text-align: right;\">\n",
       "      <th></th>\n",
       "      <th>Country</th>\n",
       "      <th>Total Library Size</th>\n",
       "      <th>No. of TV Shows</th>\n",
       "      <th>No. of Movies</th>\n",
       "    </tr>\n",
       "  </thead>\n",
       "  <tbody>\n",
       "    <tr>\n",
       "      <th>0</th>\n",
       "      <td>Croatia</td>\n",
       "      <td>2274</td>\n",
       "      <td>1675</td>\n",
       "      <td>599</td>\n",
       "    </tr>\n",
       "    <tr>\n",
       "      <th>1</th>\n",
       "      <td>San Marino</td>\n",
       "      <td>2310</td>\n",
       "      <td>1937</td>\n",
       "      <td>373</td>\n",
       "    </tr>\n",
       "    <tr>\n",
       "      <th>2</th>\n",
       "      <td>Liechtenstein</td>\n",
       "      <td>3048</td>\n",
       "      <td>1712</td>\n",
       "      <td>1336</td>\n",
       "    </tr>\n",
       "    <tr>\n",
       "      <th>3</th>\n",
       "      <td>Indonesia</td>\n",
       "      <td>3887</td>\n",
       "      <td>2449</td>\n",
       "      <td>1438</td>\n",
       "    </tr>\n",
       "    <tr>\n",
       "      <th>4</th>\n",
       "      <td>Moldova</td>\n",
       "      <td>3937</td>\n",
       "      <td>2473</td>\n",
       "      <td>1464</td>\n",
       "    </tr>\n",
       "    <tr>\n",
       "      <th>5</th>\n",
       "      <td>Finland</td>\n",
       "      <td>4045</td>\n",
       "      <td>2638</td>\n",
       "      <td>1407</td>\n",
       "    </tr>\n",
       "    <tr>\n",
       "      <th>6</th>\n",
       "      <td>Sweden</td>\n",
       "      <td>4361</td>\n",
       "      <td>2973</td>\n",
       "      <td>1388</td>\n",
       "    </tr>\n",
       "    <tr>\n",
       "      <th>7</th>\n",
       "      <td>Norway</td>\n",
       "      <td>4528</td>\n",
       "      <td>2955</td>\n",
       "      <td>1573</td>\n",
       "    </tr>\n",
       "    <tr>\n",
       "      <th>8</th>\n",
       "      <td>Denmark</td>\n",
       "      <td>4558</td>\n",
       "      <td>2978</td>\n",
       "      <td>1580</td>\n",
       "    </tr>\n",
       "    <tr>\n",
       "      <th>9</th>\n",
       "      <td>Turkey</td>\n",
       "      <td>4639</td>\n",
       "      <td>2930</td>\n",
       "      <td>1709</td>\n",
       "    </tr>\n",
       "  </tbody>\n",
       "</table>\n",
       "</div>"
      ],
      "text/plain": [
       "         Country  Total Library Size  No. of TV Shows  No. of Movies\n",
       "0        Croatia                2274             1675            599\n",
       "1     San Marino                2310             1937            373\n",
       "2  Liechtenstein                3048             1712           1336\n",
       "3      Indonesia                3887             2449           1438\n",
       "4        Moldova                3937             2473           1464\n",
       "5        Finland                4045             2638           1407\n",
       "6         Sweden                4361             2973           1388\n",
       "7         Norway                4528             2955           1573\n",
       "8        Denmark                4558             2978           1580\n",
       "9         Turkey                4639             2930           1709"
      ]
     },
     "execution_count": 5,
     "metadata": {},
     "output_type": "execute_result"
    }
   ],
   "source": [
    "# Total Library Size for each Country (Smallest Top 10)\n",
    "df_bot = df.iloc[:,:4].sort_values(by=\"Total Library Size\").reset_index(drop=True)[:10]\n",
    "df_bot"
   ]
  },
  {
   "cell_type": "code",
   "execution_count": 6,
   "metadata": {},
   "outputs": [],
   "source": [
    "df_bot[\"NTS\"] = df_bot[\"No. of TV Shows\"].apply(lambda x : \"TV Shows: \" + str(x))\n",
    "df_bot[\"NM\"] = df_bot[\"No. of Movies\"].apply(lambda x : \"Movies: \" + str(x))\n",
    "df_bot[\"TLS\"] = df_bot[\"Total Library Size\"].apply(lambda x : \"Total: \" + str(x))"
   ]
  },
  {
   "cell_type": "code",
   "execution_count": null,
   "metadata": {},
   "outputs": [],
   "source": [
    "fig1 = px.bar(df_bot,\n",
    "            x=\"Country\",\n",
    "            y=\"No. of TV Shows\",\n",
    "            custom_data=[\"NTS\"],\n",
    "            color_discrete_sequence=[\"rgb(255,49,38)\"])\n",
    "\n",
    "fig1.update_traces(hovertemplate=\"<br>\".join([\"<b>%{customdata[0]}<b>\"]))\n",
    "\n",
    "fig2 = px.bar(df_bot,\n",
    "            x=\"Country\",\n",
    "            y=\"No. of Movies\",\n",
    "            custom_data=[\"NM\"],\n",
    "            color_discrete_sequence=[\"rgb(29,28,26)\"])\n",
    "\n",
    "fig2.update_traces(hovertemplate=\"<br>\".join([\"<b>%{customdata[0]}<b>\"]))\n",
    "\n",
    "fig3 = px.line(df_bot,\n",
    "            x=\"Country\",\n",
    "            y=\"Total Library Size\",\n",
    "            color_discrete_sequence=[\"rgb(29,28,26)\"],\n",
    "            custom_data=[\"TLS\"])\n",
    "\n",
    "fig3.update_traces(hovertemplate=\"<br>\".join([\"<b>%{customdata[0]}<b>\"]))\n",
    "\n",
    "fig_bot = go.Figure(data= fig1.data + fig2.data + fig3.data)\n",
    "\n",
    "fig_bot.add_layout_image(\n",
    "    dict(\n",
    "        source=\"https://upload.wikimedia.org/wikipedia/commons/thumb/f/ff/Netflix-new-icon.png/768px-Netflix-new-icon.png\",\n",
    "        xref=\"paper\", yref=\"paper\",\n",
    "        x=0, y=1.083,\n",
    "        sizex=0.25, sizey=0.25,\n",
    "        xanchor=\"right\", yanchor=\"bottom\"\n",
    "    )\n",
    ")\n",
    "\n",
    "fig_bot.update_layout(\n",
    "    hoverlabel=dict(\n",
    "        bgcolor=\"white\",\n",
    "        font_color=\"black\",\n",
    "        font_size=13,\n",
    "        font_family=\"Rockwell\"\n",
    "    )\n",
    ")\n",
    "\n",
    "fig_bot.update_yaxes(visible=False)\n",
    "fig_bot.update_xaxes(showline=False, tickfont=dict(size=15))\n",
    "\n",
    "fig_bot.update_layout(hovermode=\"x unified\", template=\"simple_white\", title=\"SMALLEST LIBRARY SIZES\")\n",
    "\n",
    "fig_bot.update_layout(title_x=0.5,\n",
    "    font_family=\"Rockwell\",\n",
    "    font_size=15,\n",
    "    legend=dict(\n",
    "        orientation=\"h\", y=1, yanchor=\"bottom\", x=0.5, xanchor=\"center\"\n",
    "    )\n",
    ")"
   ]
  },
  {
   "cell_type": "code",
   "execution_count": 128,
   "metadata": {},
   "outputs": [
    {
     "data": {
      "application/vnd.plotly.v1+json": {
       "config": {
        "plotlyServerURL": "https://plot.ly"
       },
       "data": [
        {
         "alignmentgroup": "True",
         "customdata": [
          [
           "TV Shows: 5234"
          ],
          [
           "TV Shows: 5055"
          ],
          [
           "TV Shows: 4802"
          ],
          [
           "TV Shows: 4819"
          ],
          [
           "TV Shows: 4551"
          ],
          [
           "TV Shows: 4515"
          ],
          [
           "TV Shows: 4490"
          ],
          [
           "TV Shows: 4486"
          ],
          [
           "TV Shows: 4479"
          ],
          [
           "TV Shows: 4426"
          ]
         ],
         "hovertemplate": "<b>%{customdata[0]}<b>",
         "legendgroup": "",
         "marker": {
          "color": "rgb(255,49,38)",
          "pattern": {
           "shape": ""
          }
         },
         "name": "",
         "offsetgroup": "",
         "orientation": "v",
         "showlegend": false,
         "textposition": "auto",
         "type": "bar",
         "x": [
          "Czechia",
          "Slovakia",
          "Hungary",
          "Bulgaria",
          "United Kingdom",
          "Ireland",
          "Lithuania",
          "Estonia",
          "Latvia",
          "Iceland"
         ],
         "xaxis": "x",
         "y": [
          5234,
          5055,
          4802,
          4819,
          4551,
          4515,
          4490,
          4486,
          4479,
          4426
         ],
         "yaxis": "y"
        },
        {
         "alignmentgroup": "True",
         "customdata": [
          [
           "Movies: 2091"
          ],
          [
           "Movies: 1980"
          ],
          [
           "Movies: 2082"
          ],
          [
           "Movies: 1978"
          ],
          [
           "Movies: 2092"
          ],
          [
           "Movies: 1971"
          ],
          [
           "Movies: 1972"
          ],
          [
           "Movies: 1970"
          ],
          [
           "Movies: 1971"
          ],
          [
           "Movies: 1961"
          ]
         ],
         "hovertemplate": "<b>%{customdata[0]}<b>",
         "legendgroup": "",
         "marker": {
          "color": "rgb(29,28,26)",
          "pattern": {
           "shape": ""
          }
         },
         "name": "",
         "offsetgroup": "",
         "orientation": "v",
         "showlegend": false,
         "textposition": "auto",
         "type": "bar",
         "x": [
          "Czechia",
          "Slovakia",
          "Hungary",
          "Bulgaria",
          "United Kingdom",
          "Ireland",
          "Lithuania",
          "Estonia",
          "Latvia",
          "Iceland"
         ],
         "xaxis": "x",
         "y": [
          2091,
          1980,
          2082,
          1978,
          2092,
          1971,
          1972,
          1970,
          1971,
          1961
         ],
         "yaxis": "y"
        },
        {
         "customdata": [
          [
           "Total: 7325"
          ],
          [
           "Total: 7035"
          ],
          [
           "Total: 6884"
          ],
          [
           "Total: 6797"
          ],
          [
           "Total: 6643"
          ],
          [
           "Total: 6486"
          ],
          [
           "Total: 6462"
          ],
          [
           "Total: 6456"
          ],
          [
           "Total: 6450"
          ],
          [
           "Total: 6387"
          ]
         ],
         "hovertemplate": "<b>%{customdata[0]}<b>",
         "legendgroup": "",
         "line": {
          "color": "rgb(29,28,26)",
          "dash": "solid"
         },
         "marker": {
          "symbol": "circle"
         },
         "mode": "lines",
         "name": "",
         "orientation": "v",
         "showlegend": false,
         "type": "scatter",
         "x": [
          "Czechia",
          "Slovakia",
          "Hungary",
          "Bulgaria",
          "United Kingdom",
          "Ireland",
          "Lithuania",
          "Estonia",
          "Latvia",
          "Iceland"
         ],
         "xaxis": "x",
         "y": [
          7325,
          7035,
          6884,
          6797,
          6643,
          6486,
          6462,
          6456,
          6450,
          6387
         ],
         "yaxis": "y"
        }
       ],
       "layout": {
        "font": {
         "family": "Rockwell",
         "size": 15
        },
        "hoverlabel": {
         "bgcolor": "white",
         "font": {
          "color": "black",
          "family": "Rockwell",
          "size": 13
         }
        },
        "hovermode": "x unified",
        "images": [
         {
          "sizex": 0.25,
          "sizey": 0.25,
          "source": "https://upload.wikimedia.org/wikipedia/commons/thumb/f/ff/Netflix-new-icon.png/768px-Netflix-new-icon.png",
          "x": 0,
          "xanchor": "right",
          "xref": "paper",
          "y": 1.083,
          "yanchor": "bottom",
          "yref": "paper"
         }
        ],
        "legend": {
         "orientation": "h",
         "x": 0.5,
         "xanchor": "center",
         "y": 1,
         "yanchor": "bottom"
        },
        "template": {
         "data": {
          "bar": [
           {
            "error_x": {
             "color": "rgb(36,36,36)"
            },
            "error_y": {
             "color": "rgb(36,36,36)"
            },
            "marker": {
             "line": {
              "color": "white",
              "width": 0.5
             },
             "pattern": {
              "fillmode": "overlay",
              "size": 10,
              "solidity": 0.2
             }
            },
            "type": "bar"
           }
          ],
          "barpolar": [
           {
            "marker": {
             "line": {
              "color": "white",
              "width": 0.5
             },
             "pattern": {
              "fillmode": "overlay",
              "size": 10,
              "solidity": 0.2
             }
            },
            "type": "barpolar"
           }
          ],
          "carpet": [
           {
            "aaxis": {
             "endlinecolor": "rgb(36,36,36)",
             "gridcolor": "white",
             "linecolor": "white",
             "minorgridcolor": "white",
             "startlinecolor": "rgb(36,36,36)"
            },
            "baxis": {
             "endlinecolor": "rgb(36,36,36)",
             "gridcolor": "white",
             "linecolor": "white",
             "minorgridcolor": "white",
             "startlinecolor": "rgb(36,36,36)"
            },
            "type": "carpet"
           }
          ],
          "choropleth": [
           {
            "colorbar": {
             "outlinewidth": 1,
             "tickcolor": "rgb(36,36,36)",
             "ticks": "outside"
            },
            "type": "choropleth"
           }
          ],
          "contour": [
           {
            "colorbar": {
             "outlinewidth": 1,
             "tickcolor": "rgb(36,36,36)",
             "ticks": "outside"
            },
            "colorscale": [
             [
              0,
              "#440154"
             ],
             [
              0.1111111111111111,
              "#482878"
             ],
             [
              0.2222222222222222,
              "#3e4989"
             ],
             [
              0.3333333333333333,
              "#31688e"
             ],
             [
              0.4444444444444444,
              "#26828e"
             ],
             [
              0.5555555555555556,
              "#1f9e89"
             ],
             [
              0.6666666666666666,
              "#35b779"
             ],
             [
              0.7777777777777778,
              "#6ece58"
             ],
             [
              0.8888888888888888,
              "#b5de2b"
             ],
             [
              1,
              "#fde725"
             ]
            ],
            "type": "contour"
           }
          ],
          "contourcarpet": [
           {
            "colorbar": {
             "outlinewidth": 1,
             "tickcolor": "rgb(36,36,36)",
             "ticks": "outside"
            },
            "type": "contourcarpet"
           }
          ],
          "heatmap": [
           {
            "colorbar": {
             "outlinewidth": 1,
             "tickcolor": "rgb(36,36,36)",
             "ticks": "outside"
            },
            "colorscale": [
             [
              0,
              "#440154"
             ],
             [
              0.1111111111111111,
              "#482878"
             ],
             [
              0.2222222222222222,
              "#3e4989"
             ],
             [
              0.3333333333333333,
              "#31688e"
             ],
             [
              0.4444444444444444,
              "#26828e"
             ],
             [
              0.5555555555555556,
              "#1f9e89"
             ],
             [
              0.6666666666666666,
              "#35b779"
             ],
             [
              0.7777777777777778,
              "#6ece58"
             ],
             [
              0.8888888888888888,
              "#b5de2b"
             ],
             [
              1,
              "#fde725"
             ]
            ],
            "type": "heatmap"
           }
          ],
          "heatmapgl": [
           {
            "colorbar": {
             "outlinewidth": 1,
             "tickcolor": "rgb(36,36,36)",
             "ticks": "outside"
            },
            "colorscale": [
             [
              0,
              "#440154"
             ],
             [
              0.1111111111111111,
              "#482878"
             ],
             [
              0.2222222222222222,
              "#3e4989"
             ],
             [
              0.3333333333333333,
              "#31688e"
             ],
             [
              0.4444444444444444,
              "#26828e"
             ],
             [
              0.5555555555555556,
              "#1f9e89"
             ],
             [
              0.6666666666666666,
              "#35b779"
             ],
             [
              0.7777777777777778,
              "#6ece58"
             ],
             [
              0.8888888888888888,
              "#b5de2b"
             ],
             [
              1,
              "#fde725"
             ]
            ],
            "type": "heatmapgl"
           }
          ],
          "histogram": [
           {
            "marker": {
             "line": {
              "color": "white",
              "width": 0.6
             }
            },
            "type": "histogram"
           }
          ],
          "histogram2d": [
           {
            "colorbar": {
             "outlinewidth": 1,
             "tickcolor": "rgb(36,36,36)",
             "ticks": "outside"
            },
            "colorscale": [
             [
              0,
              "#440154"
             ],
             [
              0.1111111111111111,
              "#482878"
             ],
             [
              0.2222222222222222,
              "#3e4989"
             ],
             [
              0.3333333333333333,
              "#31688e"
             ],
             [
              0.4444444444444444,
              "#26828e"
             ],
             [
              0.5555555555555556,
              "#1f9e89"
             ],
             [
              0.6666666666666666,
              "#35b779"
             ],
             [
              0.7777777777777778,
              "#6ece58"
             ],
             [
              0.8888888888888888,
              "#b5de2b"
             ],
             [
              1,
              "#fde725"
             ]
            ],
            "type": "histogram2d"
           }
          ],
          "histogram2dcontour": [
           {
            "colorbar": {
             "outlinewidth": 1,
             "tickcolor": "rgb(36,36,36)",
             "ticks": "outside"
            },
            "colorscale": [
             [
              0,
              "#440154"
             ],
             [
              0.1111111111111111,
              "#482878"
             ],
             [
              0.2222222222222222,
              "#3e4989"
             ],
             [
              0.3333333333333333,
              "#31688e"
             ],
             [
              0.4444444444444444,
              "#26828e"
             ],
             [
              0.5555555555555556,
              "#1f9e89"
             ],
             [
              0.6666666666666666,
              "#35b779"
             ],
             [
              0.7777777777777778,
              "#6ece58"
             ],
             [
              0.8888888888888888,
              "#b5de2b"
             ],
             [
              1,
              "#fde725"
             ]
            ],
            "type": "histogram2dcontour"
           }
          ],
          "mesh3d": [
           {
            "colorbar": {
             "outlinewidth": 1,
             "tickcolor": "rgb(36,36,36)",
             "ticks": "outside"
            },
            "type": "mesh3d"
           }
          ],
          "parcoords": [
           {
            "line": {
             "colorbar": {
              "outlinewidth": 1,
              "tickcolor": "rgb(36,36,36)",
              "ticks": "outside"
             }
            },
            "type": "parcoords"
           }
          ],
          "pie": [
           {
            "automargin": true,
            "type": "pie"
           }
          ],
          "scatter": [
           {
            "marker": {
             "colorbar": {
              "outlinewidth": 1,
              "tickcolor": "rgb(36,36,36)",
              "ticks": "outside"
             }
            },
            "type": "scatter"
           }
          ],
          "scatter3d": [
           {
            "line": {
             "colorbar": {
              "outlinewidth": 1,
              "tickcolor": "rgb(36,36,36)",
              "ticks": "outside"
             }
            },
            "marker": {
             "colorbar": {
              "outlinewidth": 1,
              "tickcolor": "rgb(36,36,36)",
              "ticks": "outside"
             }
            },
            "type": "scatter3d"
           }
          ],
          "scattercarpet": [
           {
            "marker": {
             "colorbar": {
              "outlinewidth": 1,
              "tickcolor": "rgb(36,36,36)",
              "ticks": "outside"
             }
            },
            "type": "scattercarpet"
           }
          ],
          "scattergeo": [
           {
            "marker": {
             "colorbar": {
              "outlinewidth": 1,
              "tickcolor": "rgb(36,36,36)",
              "ticks": "outside"
             }
            },
            "type": "scattergeo"
           }
          ],
          "scattergl": [
           {
            "marker": {
             "colorbar": {
              "outlinewidth": 1,
              "tickcolor": "rgb(36,36,36)",
              "ticks": "outside"
             }
            },
            "type": "scattergl"
           }
          ],
          "scattermapbox": [
           {
            "marker": {
             "colorbar": {
              "outlinewidth": 1,
              "tickcolor": "rgb(36,36,36)",
              "ticks": "outside"
             }
            },
            "type": "scattermapbox"
           }
          ],
          "scatterpolar": [
           {
            "marker": {
             "colorbar": {
              "outlinewidth": 1,
              "tickcolor": "rgb(36,36,36)",
              "ticks": "outside"
             }
            },
            "type": "scatterpolar"
           }
          ],
          "scatterpolargl": [
           {
            "marker": {
             "colorbar": {
              "outlinewidth": 1,
              "tickcolor": "rgb(36,36,36)",
              "ticks": "outside"
             }
            },
            "type": "scatterpolargl"
           }
          ],
          "scatterternary": [
           {
            "marker": {
             "colorbar": {
              "outlinewidth": 1,
              "tickcolor": "rgb(36,36,36)",
              "ticks": "outside"
             }
            },
            "type": "scatterternary"
           }
          ],
          "surface": [
           {
            "colorbar": {
             "outlinewidth": 1,
             "tickcolor": "rgb(36,36,36)",
             "ticks": "outside"
            },
            "colorscale": [
             [
              0,
              "#440154"
             ],
             [
              0.1111111111111111,
              "#482878"
             ],
             [
              0.2222222222222222,
              "#3e4989"
             ],
             [
              0.3333333333333333,
              "#31688e"
             ],
             [
              0.4444444444444444,
              "#26828e"
             ],
             [
              0.5555555555555556,
              "#1f9e89"
             ],
             [
              0.6666666666666666,
              "#35b779"
             ],
             [
              0.7777777777777778,
              "#6ece58"
             ],
             [
              0.8888888888888888,
              "#b5de2b"
             ],
             [
              1,
              "#fde725"
             ]
            ],
            "type": "surface"
           }
          ],
          "table": [
           {
            "cells": {
             "fill": {
              "color": "rgb(237,237,237)"
             },
             "line": {
              "color": "white"
             }
            },
            "header": {
             "fill": {
              "color": "rgb(217,217,217)"
             },
             "line": {
              "color": "white"
             }
            },
            "type": "table"
           }
          ]
         },
         "layout": {
          "annotationdefaults": {
           "arrowhead": 0,
           "arrowwidth": 1
          },
          "autotypenumbers": "strict",
          "coloraxis": {
           "colorbar": {
            "outlinewidth": 1,
            "tickcolor": "rgb(36,36,36)",
            "ticks": "outside"
           }
          },
          "colorscale": {
           "diverging": [
            [
             0,
             "rgb(103,0,31)"
            ],
            [
             0.1,
             "rgb(178,24,43)"
            ],
            [
             0.2,
             "rgb(214,96,77)"
            ],
            [
             0.3,
             "rgb(244,165,130)"
            ],
            [
             0.4,
             "rgb(253,219,199)"
            ],
            [
             0.5,
             "rgb(247,247,247)"
            ],
            [
             0.6,
             "rgb(209,229,240)"
            ],
            [
             0.7,
             "rgb(146,197,222)"
            ],
            [
             0.8,
             "rgb(67,147,195)"
            ],
            [
             0.9,
             "rgb(33,102,172)"
            ],
            [
             1,
             "rgb(5,48,97)"
            ]
           ],
           "sequential": [
            [
             0,
             "#440154"
            ],
            [
             0.1111111111111111,
             "#482878"
            ],
            [
             0.2222222222222222,
             "#3e4989"
            ],
            [
             0.3333333333333333,
             "#31688e"
            ],
            [
             0.4444444444444444,
             "#26828e"
            ],
            [
             0.5555555555555556,
             "#1f9e89"
            ],
            [
             0.6666666666666666,
             "#35b779"
            ],
            [
             0.7777777777777778,
             "#6ece58"
            ],
            [
             0.8888888888888888,
             "#b5de2b"
            ],
            [
             1,
             "#fde725"
            ]
           ],
           "sequentialminus": [
            [
             0,
             "#440154"
            ],
            [
             0.1111111111111111,
             "#482878"
            ],
            [
             0.2222222222222222,
             "#3e4989"
            ],
            [
             0.3333333333333333,
             "#31688e"
            ],
            [
             0.4444444444444444,
             "#26828e"
            ],
            [
             0.5555555555555556,
             "#1f9e89"
            ],
            [
             0.6666666666666666,
             "#35b779"
            ],
            [
             0.7777777777777778,
             "#6ece58"
            ],
            [
             0.8888888888888888,
             "#b5de2b"
            ],
            [
             1,
             "#fde725"
            ]
           ]
          },
          "colorway": [
           "#1F77B4",
           "#FF7F0E",
           "#2CA02C",
           "#D62728",
           "#9467BD",
           "#8C564B",
           "#E377C2",
           "#7F7F7F",
           "#BCBD22",
           "#17BECF"
          ],
          "font": {
           "color": "rgb(36,36,36)"
          },
          "geo": {
           "bgcolor": "white",
           "lakecolor": "white",
           "landcolor": "white",
           "showlakes": true,
           "showland": true,
           "subunitcolor": "white"
          },
          "hoverlabel": {
           "align": "left"
          },
          "hovermode": "closest",
          "mapbox": {
           "style": "light"
          },
          "paper_bgcolor": "white",
          "plot_bgcolor": "white",
          "polar": {
           "angularaxis": {
            "gridcolor": "rgb(232,232,232)",
            "linecolor": "rgb(36,36,36)",
            "showgrid": false,
            "showline": true,
            "ticks": "outside"
           },
           "bgcolor": "white",
           "radialaxis": {
            "gridcolor": "rgb(232,232,232)",
            "linecolor": "rgb(36,36,36)",
            "showgrid": false,
            "showline": true,
            "ticks": "outside"
           }
          },
          "scene": {
           "xaxis": {
            "backgroundcolor": "white",
            "gridcolor": "rgb(232,232,232)",
            "gridwidth": 2,
            "linecolor": "rgb(36,36,36)",
            "showbackground": true,
            "showgrid": false,
            "showline": true,
            "ticks": "outside",
            "zeroline": false,
            "zerolinecolor": "rgb(36,36,36)"
           },
           "yaxis": {
            "backgroundcolor": "white",
            "gridcolor": "rgb(232,232,232)",
            "gridwidth": 2,
            "linecolor": "rgb(36,36,36)",
            "showbackground": true,
            "showgrid": false,
            "showline": true,
            "ticks": "outside",
            "zeroline": false,
            "zerolinecolor": "rgb(36,36,36)"
           },
           "zaxis": {
            "backgroundcolor": "white",
            "gridcolor": "rgb(232,232,232)",
            "gridwidth": 2,
            "linecolor": "rgb(36,36,36)",
            "showbackground": true,
            "showgrid": false,
            "showline": true,
            "ticks": "outside",
            "zeroline": false,
            "zerolinecolor": "rgb(36,36,36)"
           }
          },
          "shapedefaults": {
           "fillcolor": "black",
           "line": {
            "width": 0
           },
           "opacity": 0.3
          },
          "ternary": {
           "aaxis": {
            "gridcolor": "rgb(232,232,232)",
            "linecolor": "rgb(36,36,36)",
            "showgrid": false,
            "showline": true,
            "ticks": "outside"
           },
           "baxis": {
            "gridcolor": "rgb(232,232,232)",
            "linecolor": "rgb(36,36,36)",
            "showgrid": false,
            "showline": true,
            "ticks": "outside"
           },
           "bgcolor": "white",
           "caxis": {
            "gridcolor": "rgb(232,232,232)",
            "linecolor": "rgb(36,36,36)",
            "showgrid": false,
            "showline": true,
            "ticks": "outside"
           }
          },
          "title": {
           "x": 0.05
          },
          "xaxis": {
           "automargin": true,
           "gridcolor": "rgb(232,232,232)",
           "linecolor": "rgb(36,36,36)",
           "showgrid": false,
           "showline": true,
           "ticks": "outside",
           "title": {
            "standoff": 15
           },
           "zeroline": false,
           "zerolinecolor": "rgb(36,36,36)"
          },
          "yaxis": {
           "automargin": true,
           "gridcolor": "rgb(232,232,232)",
           "linecolor": "rgb(36,36,36)",
           "showgrid": false,
           "showline": true,
           "ticks": "outside",
           "title": {
            "standoff": 15
           },
           "zeroline": false,
           "zerolinecolor": "rgb(36,36,36)"
          }
         }
        },
        "title": {
         "text": "LARGEST LIBRARY SIZES",
         "x": 0.5
        },
        "xaxis": {
         "showline": false,
         "tickfont": {
          "size": 15
         }
        },
        "yaxis": {
         "visible": false
        }
       }
      }
     },
     "metadata": {},
     "output_type": "display_data"
    },
    {
     "data": {
      "application/vnd.plotly.v1+json": {
       "config": {
        "plotlyServerURL": "https://plot.ly"
       },
       "data": [
        {
         "alignmentgroup": "True",
         "customdata": [
          [
           "TV Shows: 1675"
          ],
          [
           "TV Shows: 1937"
          ],
          [
           "TV Shows: 1712"
          ],
          [
           "TV Shows: 2449"
          ],
          [
           "TV Shows: 2473"
          ],
          [
           "TV Shows: 2638"
          ],
          [
           "TV Shows: 2973"
          ],
          [
           "TV Shows: 2955"
          ],
          [
           "TV Shows: 2978"
          ],
          [
           "TV Shows: 2930"
          ]
         ],
         "hovertemplate": "<b>%{customdata[0]}<b>",
         "legendgroup": "",
         "marker": {
          "color": "rgb(255,49,38)",
          "pattern": {
           "shape": ""
          }
         },
         "name": "",
         "offsetgroup": "",
         "orientation": "v",
         "showlegend": false,
         "textposition": "auto",
         "type": "bar",
         "x": [
          "Croatia",
          "San Marino",
          "Liechtenstein",
          "Indonesia",
          "Moldova",
          "Finland",
          "Sweden",
          "Norway",
          "Denmark",
          "Turkey"
         ],
         "xaxis": "x",
         "y": [
          1675,
          1937,
          1712,
          2449,
          2473,
          2638,
          2973,
          2955,
          2978,
          2930
         ],
         "yaxis": "y"
        },
        {
         "alignmentgroup": "True",
         "customdata": [
          [
           "Movies: 599"
          ],
          [
           "Movies: 373"
          ],
          [
           "Movies: 1336"
          ],
          [
           "Movies: 1438"
          ],
          [
           "Movies: 1464"
          ],
          [
           "Movies: 1407"
          ],
          [
           "Movies: 1388"
          ],
          [
           "Movies: 1573"
          ],
          [
           "Movies: 1580"
          ],
          [
           "Movies: 1709"
          ]
         ],
         "hovertemplate": "<b>%{customdata[0]}<b>",
         "legendgroup": "",
         "marker": {
          "color": "rgb(29,28,26)",
          "pattern": {
           "shape": ""
          }
         },
         "name": "",
         "offsetgroup": "",
         "orientation": "v",
         "showlegend": false,
         "textposition": "auto",
         "type": "bar",
         "x": [
          "Croatia",
          "San Marino",
          "Liechtenstein",
          "Indonesia",
          "Moldova",
          "Finland",
          "Sweden",
          "Norway",
          "Denmark",
          "Turkey"
         ],
         "xaxis": "x",
         "y": [
          599,
          373,
          1336,
          1438,
          1464,
          1407,
          1388,
          1573,
          1580,
          1709
         ],
         "yaxis": "y"
        },
        {
         "customdata": [
          [
           "Total: 2274"
          ],
          [
           "Total: 2310"
          ],
          [
           "Total: 3048"
          ],
          [
           "Total: 3887"
          ],
          [
           "Total: 3937"
          ],
          [
           "Total: 4045"
          ],
          [
           "Total: 4361"
          ],
          [
           "Total: 4528"
          ],
          [
           "Total: 4558"
          ],
          [
           "Total: 4639"
          ]
         ],
         "hovertemplate": "<b>%{customdata[0]}<b>",
         "legendgroup": "",
         "line": {
          "color": "rgb(29,28,26)",
          "dash": "solid"
         },
         "marker": {
          "symbol": "circle"
         },
         "mode": "lines",
         "name": "",
         "orientation": "v",
         "showlegend": false,
         "type": "scatter",
         "x": [
          "Croatia",
          "San Marino",
          "Liechtenstein",
          "Indonesia",
          "Moldova",
          "Finland",
          "Sweden",
          "Norway",
          "Denmark",
          "Turkey"
         ],
         "xaxis": "x",
         "y": [
          2274,
          2310,
          3048,
          3887,
          3937,
          4045,
          4361,
          4528,
          4558,
          4639
         ],
         "yaxis": "y"
        }
       ],
       "layout": {
        "font": {
         "family": "Rockwell",
         "size": 15
        },
        "hoverlabel": {
         "bgcolor": "white",
         "font": {
          "color": "black",
          "family": "Rockwell",
          "size": 13
         }
        },
        "hovermode": "x unified",
        "images": [
         {
          "sizex": 0.25,
          "sizey": 0.25,
          "source": "https://upload.wikimedia.org/wikipedia/commons/thumb/f/ff/Netflix-new-icon.png/768px-Netflix-new-icon.png",
          "x": 0,
          "xanchor": "right",
          "xref": "paper",
          "y": 1.083,
          "yanchor": "bottom",
          "yref": "paper"
         }
        ],
        "legend": {
         "orientation": "h",
         "x": 0.5,
         "xanchor": "center",
         "y": 1,
         "yanchor": "bottom"
        },
        "template": {
         "data": {
          "bar": [
           {
            "error_x": {
             "color": "rgb(36,36,36)"
            },
            "error_y": {
             "color": "rgb(36,36,36)"
            },
            "marker": {
             "line": {
              "color": "white",
              "width": 0.5
             },
             "pattern": {
              "fillmode": "overlay",
              "size": 10,
              "solidity": 0.2
             }
            },
            "type": "bar"
           }
          ],
          "barpolar": [
           {
            "marker": {
             "line": {
              "color": "white",
              "width": 0.5
             },
             "pattern": {
              "fillmode": "overlay",
              "size": 10,
              "solidity": 0.2
             }
            },
            "type": "barpolar"
           }
          ],
          "carpet": [
           {
            "aaxis": {
             "endlinecolor": "rgb(36,36,36)",
             "gridcolor": "white",
             "linecolor": "white",
             "minorgridcolor": "white",
             "startlinecolor": "rgb(36,36,36)"
            },
            "baxis": {
             "endlinecolor": "rgb(36,36,36)",
             "gridcolor": "white",
             "linecolor": "white",
             "minorgridcolor": "white",
             "startlinecolor": "rgb(36,36,36)"
            },
            "type": "carpet"
           }
          ],
          "choropleth": [
           {
            "colorbar": {
             "outlinewidth": 1,
             "tickcolor": "rgb(36,36,36)",
             "ticks": "outside"
            },
            "type": "choropleth"
           }
          ],
          "contour": [
           {
            "colorbar": {
             "outlinewidth": 1,
             "tickcolor": "rgb(36,36,36)",
             "ticks": "outside"
            },
            "colorscale": [
             [
              0,
              "#440154"
             ],
             [
              0.1111111111111111,
              "#482878"
             ],
             [
              0.2222222222222222,
              "#3e4989"
             ],
             [
              0.3333333333333333,
              "#31688e"
             ],
             [
              0.4444444444444444,
              "#26828e"
             ],
             [
              0.5555555555555556,
              "#1f9e89"
             ],
             [
              0.6666666666666666,
              "#35b779"
             ],
             [
              0.7777777777777778,
              "#6ece58"
             ],
             [
              0.8888888888888888,
              "#b5de2b"
             ],
             [
              1,
              "#fde725"
             ]
            ],
            "type": "contour"
           }
          ],
          "contourcarpet": [
           {
            "colorbar": {
             "outlinewidth": 1,
             "tickcolor": "rgb(36,36,36)",
             "ticks": "outside"
            },
            "type": "contourcarpet"
           }
          ],
          "heatmap": [
           {
            "colorbar": {
             "outlinewidth": 1,
             "tickcolor": "rgb(36,36,36)",
             "ticks": "outside"
            },
            "colorscale": [
             [
              0,
              "#440154"
             ],
             [
              0.1111111111111111,
              "#482878"
             ],
             [
              0.2222222222222222,
              "#3e4989"
             ],
             [
              0.3333333333333333,
              "#31688e"
             ],
             [
              0.4444444444444444,
              "#26828e"
             ],
             [
              0.5555555555555556,
              "#1f9e89"
             ],
             [
              0.6666666666666666,
              "#35b779"
             ],
             [
              0.7777777777777778,
              "#6ece58"
             ],
             [
              0.8888888888888888,
              "#b5de2b"
             ],
             [
              1,
              "#fde725"
             ]
            ],
            "type": "heatmap"
           }
          ],
          "heatmapgl": [
           {
            "colorbar": {
             "outlinewidth": 1,
             "tickcolor": "rgb(36,36,36)",
             "ticks": "outside"
            },
            "colorscale": [
             [
              0,
              "#440154"
             ],
             [
              0.1111111111111111,
              "#482878"
             ],
             [
              0.2222222222222222,
              "#3e4989"
             ],
             [
              0.3333333333333333,
              "#31688e"
             ],
             [
              0.4444444444444444,
              "#26828e"
             ],
             [
              0.5555555555555556,
              "#1f9e89"
             ],
             [
              0.6666666666666666,
              "#35b779"
             ],
             [
              0.7777777777777778,
              "#6ece58"
             ],
             [
              0.8888888888888888,
              "#b5de2b"
             ],
             [
              1,
              "#fde725"
             ]
            ],
            "type": "heatmapgl"
           }
          ],
          "histogram": [
           {
            "marker": {
             "line": {
              "color": "white",
              "width": 0.6
             }
            },
            "type": "histogram"
           }
          ],
          "histogram2d": [
           {
            "colorbar": {
             "outlinewidth": 1,
             "tickcolor": "rgb(36,36,36)",
             "ticks": "outside"
            },
            "colorscale": [
             [
              0,
              "#440154"
             ],
             [
              0.1111111111111111,
              "#482878"
             ],
             [
              0.2222222222222222,
              "#3e4989"
             ],
             [
              0.3333333333333333,
              "#31688e"
             ],
             [
              0.4444444444444444,
              "#26828e"
             ],
             [
              0.5555555555555556,
              "#1f9e89"
             ],
             [
              0.6666666666666666,
              "#35b779"
             ],
             [
              0.7777777777777778,
              "#6ece58"
             ],
             [
              0.8888888888888888,
              "#b5de2b"
             ],
             [
              1,
              "#fde725"
             ]
            ],
            "type": "histogram2d"
           }
          ],
          "histogram2dcontour": [
           {
            "colorbar": {
             "outlinewidth": 1,
             "tickcolor": "rgb(36,36,36)",
             "ticks": "outside"
            },
            "colorscale": [
             [
              0,
              "#440154"
             ],
             [
              0.1111111111111111,
              "#482878"
             ],
             [
              0.2222222222222222,
              "#3e4989"
             ],
             [
              0.3333333333333333,
              "#31688e"
             ],
             [
              0.4444444444444444,
              "#26828e"
             ],
             [
              0.5555555555555556,
              "#1f9e89"
             ],
             [
              0.6666666666666666,
              "#35b779"
             ],
             [
              0.7777777777777778,
              "#6ece58"
             ],
             [
              0.8888888888888888,
              "#b5de2b"
             ],
             [
              1,
              "#fde725"
             ]
            ],
            "type": "histogram2dcontour"
           }
          ],
          "mesh3d": [
           {
            "colorbar": {
             "outlinewidth": 1,
             "tickcolor": "rgb(36,36,36)",
             "ticks": "outside"
            },
            "type": "mesh3d"
           }
          ],
          "parcoords": [
           {
            "line": {
             "colorbar": {
              "outlinewidth": 1,
              "tickcolor": "rgb(36,36,36)",
              "ticks": "outside"
             }
            },
            "type": "parcoords"
           }
          ],
          "pie": [
           {
            "automargin": true,
            "type": "pie"
           }
          ],
          "scatter": [
           {
            "marker": {
             "colorbar": {
              "outlinewidth": 1,
              "tickcolor": "rgb(36,36,36)",
              "ticks": "outside"
             }
            },
            "type": "scatter"
           }
          ],
          "scatter3d": [
           {
            "line": {
             "colorbar": {
              "outlinewidth": 1,
              "tickcolor": "rgb(36,36,36)",
              "ticks": "outside"
             }
            },
            "marker": {
             "colorbar": {
              "outlinewidth": 1,
              "tickcolor": "rgb(36,36,36)",
              "ticks": "outside"
             }
            },
            "type": "scatter3d"
           }
          ],
          "scattercarpet": [
           {
            "marker": {
             "colorbar": {
              "outlinewidth": 1,
              "tickcolor": "rgb(36,36,36)",
              "ticks": "outside"
             }
            },
            "type": "scattercarpet"
           }
          ],
          "scattergeo": [
           {
            "marker": {
             "colorbar": {
              "outlinewidth": 1,
              "tickcolor": "rgb(36,36,36)",
              "ticks": "outside"
             }
            },
            "type": "scattergeo"
           }
          ],
          "scattergl": [
           {
            "marker": {
             "colorbar": {
              "outlinewidth": 1,
              "tickcolor": "rgb(36,36,36)",
              "ticks": "outside"
             }
            },
            "type": "scattergl"
           }
          ],
          "scattermapbox": [
           {
            "marker": {
             "colorbar": {
              "outlinewidth": 1,
              "tickcolor": "rgb(36,36,36)",
              "ticks": "outside"
             }
            },
            "type": "scattermapbox"
           }
          ],
          "scatterpolar": [
           {
            "marker": {
             "colorbar": {
              "outlinewidth": 1,
              "tickcolor": "rgb(36,36,36)",
              "ticks": "outside"
             }
            },
            "type": "scatterpolar"
           }
          ],
          "scatterpolargl": [
           {
            "marker": {
             "colorbar": {
              "outlinewidth": 1,
              "tickcolor": "rgb(36,36,36)",
              "ticks": "outside"
             }
            },
            "type": "scatterpolargl"
           }
          ],
          "scatterternary": [
           {
            "marker": {
             "colorbar": {
              "outlinewidth": 1,
              "tickcolor": "rgb(36,36,36)",
              "ticks": "outside"
             }
            },
            "type": "scatterternary"
           }
          ],
          "surface": [
           {
            "colorbar": {
             "outlinewidth": 1,
             "tickcolor": "rgb(36,36,36)",
             "ticks": "outside"
            },
            "colorscale": [
             [
              0,
              "#440154"
             ],
             [
              0.1111111111111111,
              "#482878"
             ],
             [
              0.2222222222222222,
              "#3e4989"
             ],
             [
              0.3333333333333333,
              "#31688e"
             ],
             [
              0.4444444444444444,
              "#26828e"
             ],
             [
              0.5555555555555556,
              "#1f9e89"
             ],
             [
              0.6666666666666666,
              "#35b779"
             ],
             [
              0.7777777777777778,
              "#6ece58"
             ],
             [
              0.8888888888888888,
              "#b5de2b"
             ],
             [
              1,
              "#fde725"
             ]
            ],
            "type": "surface"
           }
          ],
          "table": [
           {
            "cells": {
             "fill": {
              "color": "rgb(237,237,237)"
             },
             "line": {
              "color": "white"
             }
            },
            "header": {
             "fill": {
              "color": "rgb(217,217,217)"
             },
             "line": {
              "color": "white"
             }
            },
            "type": "table"
           }
          ]
         },
         "layout": {
          "annotationdefaults": {
           "arrowhead": 0,
           "arrowwidth": 1
          },
          "autotypenumbers": "strict",
          "coloraxis": {
           "colorbar": {
            "outlinewidth": 1,
            "tickcolor": "rgb(36,36,36)",
            "ticks": "outside"
           }
          },
          "colorscale": {
           "diverging": [
            [
             0,
             "rgb(103,0,31)"
            ],
            [
             0.1,
             "rgb(178,24,43)"
            ],
            [
             0.2,
             "rgb(214,96,77)"
            ],
            [
             0.3,
             "rgb(244,165,130)"
            ],
            [
             0.4,
             "rgb(253,219,199)"
            ],
            [
             0.5,
             "rgb(247,247,247)"
            ],
            [
             0.6,
             "rgb(209,229,240)"
            ],
            [
             0.7,
             "rgb(146,197,222)"
            ],
            [
             0.8,
             "rgb(67,147,195)"
            ],
            [
             0.9,
             "rgb(33,102,172)"
            ],
            [
             1,
             "rgb(5,48,97)"
            ]
           ],
           "sequential": [
            [
             0,
             "#440154"
            ],
            [
             0.1111111111111111,
             "#482878"
            ],
            [
             0.2222222222222222,
             "#3e4989"
            ],
            [
             0.3333333333333333,
             "#31688e"
            ],
            [
             0.4444444444444444,
             "#26828e"
            ],
            [
             0.5555555555555556,
             "#1f9e89"
            ],
            [
             0.6666666666666666,
             "#35b779"
            ],
            [
             0.7777777777777778,
             "#6ece58"
            ],
            [
             0.8888888888888888,
             "#b5de2b"
            ],
            [
             1,
             "#fde725"
            ]
           ],
           "sequentialminus": [
            [
             0,
             "#440154"
            ],
            [
             0.1111111111111111,
             "#482878"
            ],
            [
             0.2222222222222222,
             "#3e4989"
            ],
            [
             0.3333333333333333,
             "#31688e"
            ],
            [
             0.4444444444444444,
             "#26828e"
            ],
            [
             0.5555555555555556,
             "#1f9e89"
            ],
            [
             0.6666666666666666,
             "#35b779"
            ],
            [
             0.7777777777777778,
             "#6ece58"
            ],
            [
             0.8888888888888888,
             "#b5de2b"
            ],
            [
             1,
             "#fde725"
            ]
           ]
          },
          "colorway": [
           "#1F77B4",
           "#FF7F0E",
           "#2CA02C",
           "#D62728",
           "#9467BD",
           "#8C564B",
           "#E377C2",
           "#7F7F7F",
           "#BCBD22",
           "#17BECF"
          ],
          "font": {
           "color": "rgb(36,36,36)"
          },
          "geo": {
           "bgcolor": "white",
           "lakecolor": "white",
           "landcolor": "white",
           "showlakes": true,
           "showland": true,
           "subunitcolor": "white"
          },
          "hoverlabel": {
           "align": "left"
          },
          "hovermode": "closest",
          "mapbox": {
           "style": "light"
          },
          "paper_bgcolor": "white",
          "plot_bgcolor": "white",
          "polar": {
           "angularaxis": {
            "gridcolor": "rgb(232,232,232)",
            "linecolor": "rgb(36,36,36)",
            "showgrid": false,
            "showline": true,
            "ticks": "outside"
           },
           "bgcolor": "white",
           "radialaxis": {
            "gridcolor": "rgb(232,232,232)",
            "linecolor": "rgb(36,36,36)",
            "showgrid": false,
            "showline": true,
            "ticks": "outside"
           }
          },
          "scene": {
           "xaxis": {
            "backgroundcolor": "white",
            "gridcolor": "rgb(232,232,232)",
            "gridwidth": 2,
            "linecolor": "rgb(36,36,36)",
            "showbackground": true,
            "showgrid": false,
            "showline": true,
            "ticks": "outside",
            "zeroline": false,
            "zerolinecolor": "rgb(36,36,36)"
           },
           "yaxis": {
            "backgroundcolor": "white",
            "gridcolor": "rgb(232,232,232)",
            "gridwidth": 2,
            "linecolor": "rgb(36,36,36)",
            "showbackground": true,
            "showgrid": false,
            "showline": true,
            "ticks": "outside",
            "zeroline": false,
            "zerolinecolor": "rgb(36,36,36)"
           },
           "zaxis": {
            "backgroundcolor": "white",
            "gridcolor": "rgb(232,232,232)",
            "gridwidth": 2,
            "linecolor": "rgb(36,36,36)",
            "showbackground": true,
            "showgrid": false,
            "showline": true,
            "ticks": "outside",
            "zeroline": false,
            "zerolinecolor": "rgb(36,36,36)"
           }
          },
          "shapedefaults": {
           "fillcolor": "black",
           "line": {
            "width": 0
           },
           "opacity": 0.3
          },
          "ternary": {
           "aaxis": {
            "gridcolor": "rgb(232,232,232)",
            "linecolor": "rgb(36,36,36)",
            "showgrid": false,
            "showline": true,
            "ticks": "outside"
           },
           "baxis": {
            "gridcolor": "rgb(232,232,232)",
            "linecolor": "rgb(36,36,36)",
            "showgrid": false,
            "showline": true,
            "ticks": "outside"
           },
           "bgcolor": "white",
           "caxis": {
            "gridcolor": "rgb(232,232,232)",
            "linecolor": "rgb(36,36,36)",
            "showgrid": false,
            "showline": true,
            "ticks": "outside"
           }
          },
          "title": {
           "x": 0.05
          },
          "xaxis": {
           "automargin": true,
           "gridcolor": "rgb(232,232,232)",
           "linecolor": "rgb(36,36,36)",
           "showgrid": false,
           "showline": true,
           "ticks": "outside",
           "title": {
            "standoff": 15
           },
           "zeroline": false,
           "zerolinecolor": "rgb(36,36,36)"
          },
          "yaxis": {
           "automargin": true,
           "gridcolor": "rgb(232,232,232)",
           "linecolor": "rgb(36,36,36)",
           "showgrid": false,
           "showline": true,
           "ticks": "outside",
           "title": {
            "standoff": 15
           },
           "zeroline": false,
           "zerolinecolor": "rgb(36,36,36)"
          }
         }
        },
        "title": {
         "text": "SMALLEST LIBRARY SIZES",
         "x": 0.5
        },
        "xaxis": {
         "showline": false,
         "tickfont": {
          "size": 15
         }
        },
        "yaxis": {
         "visible": false
        }
       }
      }
     },
     "metadata": {},
     "output_type": "display_data"
    }
   ],
   "source": [
    "fig_top.show()\n",
    "fig_bot.show()"
   ]
  },
  {
   "cell_type": "code",
   "execution_count": 112,
   "metadata": {},
   "outputs": [],
   "source": [
    "# Cost per Country Cheapest Top 10 ($)\n",
    "\n",
    "df[\"avg_cost\"] = (df[\"Cost Per Month - Basic ($)\"]+df[\"Cost Per Month - Standard ($)\"]+df[\"Cost Per Month - Premium ($)\"])/3\n",
    "df[\"avg_cost\"] = df[\"avg_cost\"].apply(lambda x: float(str(x)[:4]))\n",
    "\n",
    "df[\"avg_basic\"] = df[\"Cost Per Month - Basic ($)\"].sum()/df[\"Cost Per Month - Basic ($)\"].count()\n",
    "df[\"avg_basic\"] = df[\"avg_basic\"].apply(lambda x: float(str(x)[:4]))\n",
    "\n",
    "df[\"avg_std\"] = df[\"Cost Per Month - Standard ($)\"].sum()/df[\"Cost Per Month - Standard ($)\"].count()\n",
    "df[\"avg_std\"] = df[\"avg_std\"].apply(lambda x: float(str(x)[:4]))\n",
    "\n",
    "df[\"avg_prem\"] = df[\"Cost Per Month - Premium ($)\"].sum()/df[\"Cost Per Month - Premium ($)\"].count()\n",
    "df[\"avg_prem\"] = df[\"avg_prem\"].apply(lambda x: float(str(x)[:4]))\n",
    "\n",
    "df[\"basic_diff\"] = df[\"Cost Per Month - Basic ($)\"]-df[\"avg_basic\"]\n",
    "df[\"basic_diff\"] = df[\"basic_diff\"].apply(lambda x: float(str(x)[:4]))\n",
    "\n",
    "df[\"std_diff\"] = df[\"Cost Per Month - Standard ($)\"]-df[\"avg_std\"]\n",
    "df[\"std_diff\"] = df[\"std_diff\"].apply(lambda x: float(str(x)[:4]))\n",
    "\n",
    "df[\"prem_diff\"] = df[\"Cost Per Month - Premium ($)\"]-df[\"avg_prem\"]\n",
    "df[\"prem_diff\"] = df[\"prem_diff\"].apply(lambda x: float(str(x)[:4]))"
   ]
  },
  {
   "cell_type": "code",
   "execution_count": 113,
   "metadata": {},
   "outputs": [
    {
     "data": {
      "text/html": [
       "<div>\n",
       "<style scoped>\n",
       "    .dataframe tbody tr th:only-of-type {\n",
       "        vertical-align: middle;\n",
       "    }\n",
       "\n",
       "    .dataframe tbody tr th {\n",
       "        vertical-align: top;\n",
       "    }\n",
       "\n",
       "    .dataframe thead th {\n",
       "        text-align: right;\n",
       "    }\n",
       "</style>\n",
       "<table border=\"1\" class=\"dataframe\">\n",
       "  <thead>\n",
       "    <tr style=\"text-align: right;\">\n",
       "      <th></th>\n",
       "      <th>Country</th>\n",
       "      <th>Total Library Size</th>\n",
       "      <th>No. of TV Shows</th>\n",
       "      <th>No. of Movies</th>\n",
       "      <th>Cost Per Month - Basic ($)</th>\n",
       "      <th>Cost Per Month - Standard ($)</th>\n",
       "      <th>Cost Per Month - Premium ($)</th>\n",
       "      <th>avg_cost</th>\n",
       "      <th>avg_basic</th>\n",
       "      <th>avg_std</th>\n",
       "      <th>avg_prem</th>\n",
       "      <th>basic_diff</th>\n",
       "      <th>std_diff</th>\n",
       "      <th>prem_diff</th>\n",
       "    </tr>\n",
       "  </thead>\n",
       "  <tbody>\n",
       "    <tr>\n",
       "      <th>0</th>\n",
       "      <td>Turkey</td>\n",
       "      <td>4639</td>\n",
       "      <td>2930</td>\n",
       "      <td>1709</td>\n",
       "      <td>1.97</td>\n",
       "      <td>3.00</td>\n",
       "      <td>4.02</td>\n",
       "      <td>2.99</td>\n",
       "      <td>8.36</td>\n",
       "      <td>11.9</td>\n",
       "      <td>15.6</td>\n",
       "      <td>-6.3</td>\n",
       "      <td>-8.9</td>\n",
       "      <td>-11.0</td>\n",
       "    </tr>\n",
       "    <tr>\n",
       "      <th>1</th>\n",
       "      <td>India</td>\n",
       "      <td>5843</td>\n",
       "      <td>3718</td>\n",
       "      <td>2125</td>\n",
       "      <td>2.64</td>\n",
       "      <td>6.61</td>\n",
       "      <td>8.60</td>\n",
       "      <td>5.95</td>\n",
       "      <td>8.36</td>\n",
       "      <td>11.9</td>\n",
       "      <td>15.6</td>\n",
       "      <td>-5.7</td>\n",
       "      <td>-5.2</td>\n",
       "      <td>-7.0</td>\n",
       "    </tr>\n",
       "    <tr>\n",
       "      <th>2</th>\n",
       "      <td>Argentina</td>\n",
       "      <td>4760</td>\n",
       "      <td>3154</td>\n",
       "      <td>1606</td>\n",
       "      <td>3.74</td>\n",
       "      <td>6.30</td>\n",
       "      <td>9.26</td>\n",
       "      <td>6.43</td>\n",
       "      <td>8.36</td>\n",
       "      <td>11.9</td>\n",
       "      <td>15.6</td>\n",
       "      <td>-4.6</td>\n",
       "      <td>-5.6</td>\n",
       "      <td>-6.3</td>\n",
       "    </tr>\n",
       "    <tr>\n",
       "      <th>3</th>\n",
       "      <td>Colombia</td>\n",
       "      <td>4991</td>\n",
       "      <td>3156</td>\n",
       "      <td>1835</td>\n",
       "      <td>4.31</td>\n",
       "      <td>6.86</td>\n",
       "      <td>9.93</td>\n",
       "      <td>7.03</td>\n",
       "      <td>8.36</td>\n",
       "      <td>11.9</td>\n",
       "      <td>15.6</td>\n",
       "      <td>-4.0</td>\n",
       "      <td>-5.0</td>\n",
       "      <td>-5.6</td>\n",
       "    </tr>\n",
       "    <tr>\n",
       "      <th>4</th>\n",
       "      <td>Brazil</td>\n",
       "      <td>4972</td>\n",
       "      <td>3162</td>\n",
       "      <td>1810</td>\n",
       "      <td>4.61</td>\n",
       "      <td>7.11</td>\n",
       "      <td>9.96</td>\n",
       "      <td>7.22</td>\n",
       "      <td>8.36</td>\n",
       "      <td>11.9</td>\n",
       "      <td>15.6</td>\n",
       "      <td>-3.7</td>\n",
       "      <td>-4.7</td>\n",
       "      <td>-5.6</td>\n",
       "    </tr>\n",
       "    <tr>\n",
       "      <th>5</th>\n",
       "      <td>Ukraine</td>\n",
       "      <td>5336</td>\n",
       "      <td>3261</td>\n",
       "      <td>2075</td>\n",
       "      <td>5.64</td>\n",
       "      <td>8.46</td>\n",
       "      <td>11.29</td>\n",
       "      <td>8.46</td>\n",
       "      <td>8.36</td>\n",
       "      <td>11.9</td>\n",
       "      <td>15.6</td>\n",
       "      <td>-2.7</td>\n",
       "      <td>-3.4</td>\n",
       "      <td>-4.3</td>\n",
       "    </tr>\n",
       "    <tr>\n",
       "      <th>6</th>\n",
       "      <td>Peru</td>\n",
       "      <td>4986</td>\n",
       "      <td>3155</td>\n",
       "      <td>1831</td>\n",
       "      <td>6.11</td>\n",
       "      <td>8.56</td>\n",
       "      <td>11.01</td>\n",
       "      <td>8.56</td>\n",
       "      <td>8.36</td>\n",
       "      <td>11.9</td>\n",
       "      <td>15.6</td>\n",
       "      <td>-2.2</td>\n",
       "      <td>-3.3</td>\n",
       "      <td>-4.5</td>\n",
       "    </tr>\n",
       "    <tr>\n",
       "      <th>7</th>\n",
       "      <td>Philippines</td>\n",
       "      <td>6362</td>\n",
       "      <td>4154</td>\n",
       "      <td>2208</td>\n",
       "      <td>7.35</td>\n",
       "      <td>9.14</td>\n",
       "      <td>10.93</td>\n",
       "      <td>9.14</td>\n",
       "      <td>8.36</td>\n",
       "      <td>11.9</td>\n",
       "      <td>15.6</td>\n",
       "      <td>-1.0</td>\n",
       "      <td>-2.7</td>\n",
       "      <td>-4.6</td>\n",
       "    </tr>\n",
       "    <tr>\n",
       "      <th>8</th>\n",
       "      <td>South Africa</td>\n",
       "      <td>5736</td>\n",
       "      <td>3686</td>\n",
       "      <td>2050</td>\n",
       "      <td>6.26</td>\n",
       "      <td>10.05</td>\n",
       "      <td>12.58</td>\n",
       "      <td>9.63</td>\n",
       "      <td>8.36</td>\n",
       "      <td>11.9</td>\n",
       "      <td>15.6</td>\n",
       "      <td>-2.0</td>\n",
       "      <td>-1.8</td>\n",
       "      <td>-3.0</td>\n",
       "    </tr>\n",
       "    <tr>\n",
       "      <th>9</th>\n",
       "      <td>Chile</td>\n",
       "      <td>4994</td>\n",
       "      <td>3156</td>\n",
       "      <td>1838</td>\n",
       "      <td>7.07</td>\n",
       "      <td>9.91</td>\n",
       "      <td>12.74</td>\n",
       "      <td>9.90</td>\n",
       "      <td>8.36</td>\n",
       "      <td>11.9</td>\n",
       "      <td>15.6</td>\n",
       "      <td>-1.2</td>\n",
       "      <td>-1.9</td>\n",
       "      <td>-2.8</td>\n",
       "    </tr>\n",
       "  </tbody>\n",
       "</table>\n",
       "</div>"
      ],
      "text/plain": [
       "        Country  Total Library Size  No. of TV Shows  No. of Movies  \\\n",
       "0        Turkey                4639             2930           1709   \n",
       "1         India                5843             3718           2125   \n",
       "2     Argentina                4760             3154           1606   \n",
       "3      Colombia                4991             3156           1835   \n",
       "4        Brazil                4972             3162           1810   \n",
       "5       Ukraine                5336             3261           2075   \n",
       "6          Peru                4986             3155           1831   \n",
       "7   Philippines                6362             4154           2208   \n",
       "8  South Africa                5736             3686           2050   \n",
       "9         Chile                4994             3156           1838   \n",
       "\n",
       "   Cost Per Month - Basic ($)  Cost Per Month - Standard ($)  \\\n",
       "0                        1.97                           3.00   \n",
       "1                        2.64                           6.61   \n",
       "2                        3.74                           6.30   \n",
       "3                        4.31                           6.86   \n",
       "4                        4.61                           7.11   \n",
       "5                        5.64                           8.46   \n",
       "6                        6.11                           8.56   \n",
       "7                        7.35                           9.14   \n",
       "8                        6.26                          10.05   \n",
       "9                        7.07                           9.91   \n",
       "\n",
       "   Cost Per Month - Premium ($)  avg_cost  avg_basic  avg_std  avg_prem  \\\n",
       "0                          4.02      2.99       8.36     11.9      15.6   \n",
       "1                          8.60      5.95       8.36     11.9      15.6   \n",
       "2                          9.26      6.43       8.36     11.9      15.6   \n",
       "3                          9.93      7.03       8.36     11.9      15.6   \n",
       "4                          9.96      7.22       8.36     11.9      15.6   \n",
       "5                         11.29      8.46       8.36     11.9      15.6   \n",
       "6                         11.01      8.56       8.36     11.9      15.6   \n",
       "7                         10.93      9.14       8.36     11.9      15.6   \n",
       "8                         12.58      9.63       8.36     11.9      15.6   \n",
       "9                         12.74      9.90       8.36     11.9      15.6   \n",
       "\n",
       "   basic_diff  std_diff  prem_diff  \n",
       "0        -6.3      -8.9      -11.0  \n",
       "1        -5.7      -5.2       -7.0  \n",
       "2        -4.6      -5.6       -6.3  \n",
       "3        -4.0      -5.0       -5.6  \n",
       "4        -3.7      -4.7       -5.6  \n",
       "5        -2.7      -3.4       -4.3  \n",
       "6        -2.2      -3.3       -4.5  \n",
       "7        -1.0      -2.7       -4.6  \n",
       "8        -2.0      -1.8       -3.0  \n",
       "9        -1.2      -1.9       -2.8  "
      ]
     },
     "execution_count": 113,
     "metadata": {},
     "output_type": "execute_result"
    }
   ],
   "source": [
    "df_cheap = df.sort_values(by=\"avg_cost\").reset_index(drop=True)[:10]\n",
    "df_cheap"
   ]
  },
  {
   "cell_type": "code",
   "execution_count": 174,
   "metadata": {},
   "outputs": [
    {
     "data": {
      "application/vnd.plotly.v1+json": {
       "config": {
        "plotlyServerURL": "https://plot.ly"
       },
       "data": [
        {
         "customdata": [
          [
           "Avg. Premium: $15.6"
          ],
          [
           "Avg. Premium: $15.6"
          ],
          [
           "Avg. Premium: $15.6"
          ],
          [
           "Avg. Premium: $15.6"
          ],
          [
           "Avg. Premium: $15.6"
          ],
          [
           "Avg. Premium: $15.6"
          ],
          [
           "Avg. Premium: $15.6"
          ],
          [
           "Avg. Premium: $15.6"
          ],
          [
           "Avg. Premium: $15.6"
          ],
          [
           "Avg. Premium: $15.6"
          ]
         ],
         "hovertemplate": "<b>%{customdata[0]}<b>",
         "legendgroup": "",
         "line": {
          "color": "rgb(255,49,38)",
          "dash": "solid"
         },
         "marker": {
          "symbol": "circle"
         },
         "mode": "lines",
         "name": "",
         "orientation": "v",
         "showlegend": false,
         "type": "scatter",
         "x": [
          "Turkey",
          "India",
          "Argentina",
          "Colombia",
          "Brazil",
          "Ukraine",
          "Peru",
          "Philippines",
          "South Africa",
          "Chile"
         ],
         "xaxis": "x",
         "y": [
          15.6,
          15.6,
          15.6,
          15.6,
          15.6,
          15.6,
          15.6,
          15.6,
          15.6,
          15.6
         ],
         "yaxis": "y"
        },
        {
         "customdata": [
          [
           "Avg. Standart: $11.9"
          ],
          [
           "Avg. Standart: $11.9"
          ],
          [
           "Avg. Standart: $11.9"
          ],
          [
           "Avg. Standart: $11.9"
          ],
          [
           "Avg. Standart: $11.9"
          ],
          [
           "Avg. Standart: $11.9"
          ],
          [
           "Avg. Standart: $11.9"
          ],
          [
           "Avg. Standart: $11.9"
          ],
          [
           "Avg. Standart: $11.9"
          ],
          [
           "Avg. Standart: $11.9"
          ]
         ],
         "hovertemplate": "<b>%{customdata[0]}<b>",
         "legendgroup": "",
         "line": {
          "color": "rgb(255,49,38)",
          "dash": "solid"
         },
         "marker": {
          "symbol": "circle"
         },
         "mode": "lines",
         "name": "",
         "orientation": "v",
         "showlegend": false,
         "type": "scatter",
         "x": [
          "Turkey",
          "India",
          "Argentina",
          "Colombia",
          "Brazil",
          "Ukraine",
          "Peru",
          "Philippines",
          "South Africa",
          "Chile"
         ],
         "xaxis": "x",
         "y": [
          11.9,
          11.9,
          11.9,
          11.9,
          11.9,
          11.9,
          11.9,
          11.9,
          11.9,
          11.9
         ],
         "yaxis": "y"
        },
        {
         "customdata": [
          [
           "Avg. Basic: $8.36"
          ],
          [
           "Avg. Basic: $8.36"
          ],
          [
           "Avg. Basic: $8.36"
          ],
          [
           "Avg. Basic: $8.36"
          ],
          [
           "Avg. Basic: $8.36"
          ],
          [
           "Avg. Basic: $8.36"
          ],
          [
           "Avg. Basic: $8.36"
          ],
          [
           "Avg. Basic: $8.36"
          ],
          [
           "Avg. Basic: $8.36"
          ],
          [
           "Avg. Basic: $8.36"
          ]
         ],
         "hovertemplate": "<b>%{customdata[0]}<b>",
         "legendgroup": "",
         "line": {
          "color": "rgb(255,49,38)",
          "dash": "solid"
         },
         "marker": {
          "symbol": "circle"
         },
         "mode": "lines",
         "name": "",
         "orientation": "v",
         "showlegend": false,
         "type": "scatter",
         "x": [
          "Turkey",
          "India",
          "Argentina",
          "Colombia",
          "Brazil",
          "Ukraine",
          "Peru",
          "Philippines",
          "South Africa",
          "Chile"
         ],
         "xaxis": "x",
         "y": [
          8.36,
          8.36,
          8.36,
          8.36,
          8.36,
          8.36,
          8.36,
          8.36,
          8.36,
          8.36
         ],
         "yaxis": "y"
        },
        {
         "alignmentgroup": "True",
         "customdata": [
          [
           "Premium: $4.02"
          ],
          [
           "Premium: $8.6"
          ],
          [
           "Premium: $9.26"
          ],
          [
           "Premium: $9.93"
          ],
          [
           "Premium: $9.96"
          ],
          [
           "Premium: $11.29"
          ],
          [
           "Premium: $11.01"
          ],
          [
           "Premium: $10.93"
          ],
          [
           "Premium: $12.58"
          ],
          [
           "Premium: $12.74"
          ]
         ],
         "hovertemplate": "<b>%{customdata[0]}<b>",
         "legendgroup": "",
         "marker": {
          "color": "rgb(29,28,26)",
          "pattern": {
           "shape": ""
          }
         },
         "name": "",
         "offsetgroup": "",
         "orientation": "v",
         "showlegend": false,
         "textposition": "auto",
         "type": "bar",
         "x": [
          "Turkey",
          "India",
          "Argentina",
          "Colombia",
          "Brazil",
          "Ukraine",
          "Peru",
          "Philippines",
          "South Africa",
          "Chile"
         ],
         "xaxis": "x",
         "y": [
          4.02,
          8.6,
          9.26,
          9.93,
          9.96,
          11.29,
          11.01,
          10.93,
          12.58,
          12.74
         ],
         "yaxis": "y"
        },
        {
         "alignmentgroup": "True",
         "customdata": [
          [
           "Standart: $3.0"
          ],
          [
           "Standart: $6.61"
          ],
          [
           "Standart: $6.3"
          ],
          [
           "Standart: $6.86"
          ],
          [
           "Standart: $7.11"
          ],
          [
           "Standart: $8.46"
          ],
          [
           "Standart: $8.56"
          ],
          [
           "Standart: $9.14"
          ],
          [
           "Standart: $10.05"
          ],
          [
           "Standart: $9.91"
          ]
         ],
         "hovertemplate": "<b>%{customdata[0]}<b>",
         "legendgroup": "",
         "marker": {
          "color": "rgb(60,60,49)",
          "pattern": {
           "shape": ""
          }
         },
         "name": "",
         "offsetgroup": "",
         "orientation": "v",
         "showlegend": false,
         "textposition": "auto",
         "type": "bar",
         "x": [
          "Turkey",
          "India",
          "Argentina",
          "Colombia",
          "Brazil",
          "Ukraine",
          "Peru",
          "Philippines",
          "South Africa",
          "Chile"
         ],
         "xaxis": "x",
         "y": [
          3,
          6.61,
          6.3,
          6.86,
          7.11,
          8.46,
          8.56,
          9.14,
          10.05,
          9.91
         ],
         "yaxis": "y"
        },
        {
         "alignmentgroup": "True",
         "customdata": [
          [
           "Basic: $1.97"
          ],
          [
           "Basic: $2.64"
          ],
          [
           "Basic: $3.74"
          ],
          [
           "Basic: $4.31"
          ],
          [
           "Basic: $4.61"
          ],
          [
           "Basic: $5.64"
          ],
          [
           "Basic: $6.11"
          ],
          [
           "Basic: $7.35"
          ],
          [
           "Basic: $6.26"
          ],
          [
           "Basic: $7.07"
          ]
         ],
         "hovertemplate": "<b>%{customdata[0]}<b>",
         "legendgroup": "",
         "marker": {
          "color": "rgb(207,207,196)",
          "pattern": {
           "shape": ""
          }
         },
         "name": "",
         "offsetgroup": "",
         "orientation": "v",
         "showlegend": false,
         "textposition": "auto",
         "type": "bar",
         "x": [
          "Turkey",
          "India",
          "Argentina",
          "Colombia",
          "Brazil",
          "Ukraine",
          "Peru",
          "Philippines",
          "South Africa",
          "Chile"
         ],
         "xaxis": "x",
         "y": [
          1.97,
          2.64,
          3.74,
          4.31,
          4.61,
          5.64,
          6.11,
          7.35,
          6.26,
          7.07
         ],
         "yaxis": "y"
        }
       ],
       "layout": {
        "annotations": [
         {
          "font": {
           "size": 15
          },
          "showarrow": false,
          "text": "Avg. -Basic",
          "x": "Turkey",
          "xshift": -100,
          "y": 8.36
         },
         {
          "font": {
           "size": 15
          },
          "showarrow": false,
          "text": "Avg. -Standart",
          "x": "Turkey",
          "xshift": -100,
          "y": 11.9
         },
         {
          "font": {
           "size": 15
          },
          "showarrow": false,
          "text": "Avg. -Premium",
          "x": "Turkey",
          "xshift": -100,
          "y": 15.6
         }
        ],
        "font": {
         "family": "Rockwell",
         "size": 15
        },
        "hoverlabel": {
         "bgcolor": "white",
         "font": {
          "color": "black",
          "family": "Rockwell",
          "size": 13
         }
        },
        "hovermode": "x unified",
        "images": [
         {
          "sizex": 0.25,
          "sizey": 0.25,
          "source": "https://upload.wikimedia.org/wikipedia/commons/thumb/f/ff/Netflix-new-icon.png/768px-Netflix-new-icon.png",
          "x": 0,
          "xanchor": "right",
          "xref": "paper",
          "y": 1.083,
          "yanchor": "bottom",
          "yref": "paper"
         }
        ],
        "legend": {
         "orientation": "h",
         "x": 0.5,
         "xanchor": "center",
         "y": 1,
         "yanchor": "bottom"
        },
        "template": {
         "data": {
          "bar": [
           {
            "error_x": {
             "color": "rgb(36,36,36)"
            },
            "error_y": {
             "color": "rgb(36,36,36)"
            },
            "marker": {
             "line": {
              "color": "white",
              "width": 0.5
             },
             "pattern": {
              "fillmode": "overlay",
              "size": 10,
              "solidity": 0.2
             }
            },
            "type": "bar"
           }
          ],
          "barpolar": [
           {
            "marker": {
             "line": {
              "color": "white",
              "width": 0.5
             },
             "pattern": {
              "fillmode": "overlay",
              "size": 10,
              "solidity": 0.2
             }
            },
            "type": "barpolar"
           }
          ],
          "carpet": [
           {
            "aaxis": {
             "endlinecolor": "rgb(36,36,36)",
             "gridcolor": "white",
             "linecolor": "white",
             "minorgridcolor": "white",
             "startlinecolor": "rgb(36,36,36)"
            },
            "baxis": {
             "endlinecolor": "rgb(36,36,36)",
             "gridcolor": "white",
             "linecolor": "white",
             "minorgridcolor": "white",
             "startlinecolor": "rgb(36,36,36)"
            },
            "type": "carpet"
           }
          ],
          "choropleth": [
           {
            "colorbar": {
             "outlinewidth": 1,
             "tickcolor": "rgb(36,36,36)",
             "ticks": "outside"
            },
            "type": "choropleth"
           }
          ],
          "contour": [
           {
            "colorbar": {
             "outlinewidth": 1,
             "tickcolor": "rgb(36,36,36)",
             "ticks": "outside"
            },
            "colorscale": [
             [
              0,
              "#440154"
             ],
             [
              0.1111111111111111,
              "#482878"
             ],
             [
              0.2222222222222222,
              "#3e4989"
             ],
             [
              0.3333333333333333,
              "#31688e"
             ],
             [
              0.4444444444444444,
              "#26828e"
             ],
             [
              0.5555555555555556,
              "#1f9e89"
             ],
             [
              0.6666666666666666,
              "#35b779"
             ],
             [
              0.7777777777777778,
              "#6ece58"
             ],
             [
              0.8888888888888888,
              "#b5de2b"
             ],
             [
              1,
              "#fde725"
             ]
            ],
            "type": "contour"
           }
          ],
          "contourcarpet": [
           {
            "colorbar": {
             "outlinewidth": 1,
             "tickcolor": "rgb(36,36,36)",
             "ticks": "outside"
            },
            "type": "contourcarpet"
           }
          ],
          "heatmap": [
           {
            "colorbar": {
             "outlinewidth": 1,
             "tickcolor": "rgb(36,36,36)",
             "ticks": "outside"
            },
            "colorscale": [
             [
              0,
              "#440154"
             ],
             [
              0.1111111111111111,
              "#482878"
             ],
             [
              0.2222222222222222,
              "#3e4989"
             ],
             [
              0.3333333333333333,
              "#31688e"
             ],
             [
              0.4444444444444444,
              "#26828e"
             ],
             [
              0.5555555555555556,
              "#1f9e89"
             ],
             [
              0.6666666666666666,
              "#35b779"
             ],
             [
              0.7777777777777778,
              "#6ece58"
             ],
             [
              0.8888888888888888,
              "#b5de2b"
             ],
             [
              1,
              "#fde725"
             ]
            ],
            "type": "heatmap"
           }
          ],
          "heatmapgl": [
           {
            "colorbar": {
             "outlinewidth": 1,
             "tickcolor": "rgb(36,36,36)",
             "ticks": "outside"
            },
            "colorscale": [
             [
              0,
              "#440154"
             ],
             [
              0.1111111111111111,
              "#482878"
             ],
             [
              0.2222222222222222,
              "#3e4989"
             ],
             [
              0.3333333333333333,
              "#31688e"
             ],
             [
              0.4444444444444444,
              "#26828e"
             ],
             [
              0.5555555555555556,
              "#1f9e89"
             ],
             [
              0.6666666666666666,
              "#35b779"
             ],
             [
              0.7777777777777778,
              "#6ece58"
             ],
             [
              0.8888888888888888,
              "#b5de2b"
             ],
             [
              1,
              "#fde725"
             ]
            ],
            "type": "heatmapgl"
           }
          ],
          "histogram": [
           {
            "marker": {
             "line": {
              "color": "white",
              "width": 0.6
             }
            },
            "type": "histogram"
           }
          ],
          "histogram2d": [
           {
            "colorbar": {
             "outlinewidth": 1,
             "tickcolor": "rgb(36,36,36)",
             "ticks": "outside"
            },
            "colorscale": [
             [
              0,
              "#440154"
             ],
             [
              0.1111111111111111,
              "#482878"
             ],
             [
              0.2222222222222222,
              "#3e4989"
             ],
             [
              0.3333333333333333,
              "#31688e"
             ],
             [
              0.4444444444444444,
              "#26828e"
             ],
             [
              0.5555555555555556,
              "#1f9e89"
             ],
             [
              0.6666666666666666,
              "#35b779"
             ],
             [
              0.7777777777777778,
              "#6ece58"
             ],
             [
              0.8888888888888888,
              "#b5de2b"
             ],
             [
              1,
              "#fde725"
             ]
            ],
            "type": "histogram2d"
           }
          ],
          "histogram2dcontour": [
           {
            "colorbar": {
             "outlinewidth": 1,
             "tickcolor": "rgb(36,36,36)",
             "ticks": "outside"
            },
            "colorscale": [
             [
              0,
              "#440154"
             ],
             [
              0.1111111111111111,
              "#482878"
             ],
             [
              0.2222222222222222,
              "#3e4989"
             ],
             [
              0.3333333333333333,
              "#31688e"
             ],
             [
              0.4444444444444444,
              "#26828e"
             ],
             [
              0.5555555555555556,
              "#1f9e89"
             ],
             [
              0.6666666666666666,
              "#35b779"
             ],
             [
              0.7777777777777778,
              "#6ece58"
             ],
             [
              0.8888888888888888,
              "#b5de2b"
             ],
             [
              1,
              "#fde725"
             ]
            ],
            "type": "histogram2dcontour"
           }
          ],
          "mesh3d": [
           {
            "colorbar": {
             "outlinewidth": 1,
             "tickcolor": "rgb(36,36,36)",
             "ticks": "outside"
            },
            "type": "mesh3d"
           }
          ],
          "parcoords": [
           {
            "line": {
             "colorbar": {
              "outlinewidth": 1,
              "tickcolor": "rgb(36,36,36)",
              "ticks": "outside"
             }
            },
            "type": "parcoords"
           }
          ],
          "pie": [
           {
            "automargin": true,
            "type": "pie"
           }
          ],
          "scatter": [
           {
            "marker": {
             "colorbar": {
              "outlinewidth": 1,
              "tickcolor": "rgb(36,36,36)",
              "ticks": "outside"
             }
            },
            "type": "scatter"
           }
          ],
          "scatter3d": [
           {
            "line": {
             "colorbar": {
              "outlinewidth": 1,
              "tickcolor": "rgb(36,36,36)",
              "ticks": "outside"
             }
            },
            "marker": {
             "colorbar": {
              "outlinewidth": 1,
              "tickcolor": "rgb(36,36,36)",
              "ticks": "outside"
             }
            },
            "type": "scatter3d"
           }
          ],
          "scattercarpet": [
           {
            "marker": {
             "colorbar": {
              "outlinewidth": 1,
              "tickcolor": "rgb(36,36,36)",
              "ticks": "outside"
             }
            },
            "type": "scattercarpet"
           }
          ],
          "scattergeo": [
           {
            "marker": {
             "colorbar": {
              "outlinewidth": 1,
              "tickcolor": "rgb(36,36,36)",
              "ticks": "outside"
             }
            },
            "type": "scattergeo"
           }
          ],
          "scattergl": [
           {
            "marker": {
             "colorbar": {
              "outlinewidth": 1,
              "tickcolor": "rgb(36,36,36)",
              "ticks": "outside"
             }
            },
            "type": "scattergl"
           }
          ],
          "scattermapbox": [
           {
            "marker": {
             "colorbar": {
              "outlinewidth": 1,
              "tickcolor": "rgb(36,36,36)",
              "ticks": "outside"
             }
            },
            "type": "scattermapbox"
           }
          ],
          "scatterpolar": [
           {
            "marker": {
             "colorbar": {
              "outlinewidth": 1,
              "tickcolor": "rgb(36,36,36)",
              "ticks": "outside"
             }
            },
            "type": "scatterpolar"
           }
          ],
          "scatterpolargl": [
           {
            "marker": {
             "colorbar": {
              "outlinewidth": 1,
              "tickcolor": "rgb(36,36,36)",
              "ticks": "outside"
             }
            },
            "type": "scatterpolargl"
           }
          ],
          "scatterternary": [
           {
            "marker": {
             "colorbar": {
              "outlinewidth": 1,
              "tickcolor": "rgb(36,36,36)",
              "ticks": "outside"
             }
            },
            "type": "scatterternary"
           }
          ],
          "surface": [
           {
            "colorbar": {
             "outlinewidth": 1,
             "tickcolor": "rgb(36,36,36)",
             "ticks": "outside"
            },
            "colorscale": [
             [
              0,
              "#440154"
             ],
             [
              0.1111111111111111,
              "#482878"
             ],
             [
              0.2222222222222222,
              "#3e4989"
             ],
             [
              0.3333333333333333,
              "#31688e"
             ],
             [
              0.4444444444444444,
              "#26828e"
             ],
             [
              0.5555555555555556,
              "#1f9e89"
             ],
             [
              0.6666666666666666,
              "#35b779"
             ],
             [
              0.7777777777777778,
              "#6ece58"
             ],
             [
              0.8888888888888888,
              "#b5de2b"
             ],
             [
              1,
              "#fde725"
             ]
            ],
            "type": "surface"
           }
          ],
          "table": [
           {
            "cells": {
             "fill": {
              "color": "rgb(237,237,237)"
             },
             "line": {
              "color": "white"
             }
            },
            "header": {
             "fill": {
              "color": "rgb(217,217,217)"
             },
             "line": {
              "color": "white"
             }
            },
            "type": "table"
           }
          ]
         },
         "layout": {
          "annotationdefaults": {
           "arrowhead": 0,
           "arrowwidth": 1
          },
          "autotypenumbers": "strict",
          "coloraxis": {
           "colorbar": {
            "outlinewidth": 1,
            "tickcolor": "rgb(36,36,36)",
            "ticks": "outside"
           }
          },
          "colorscale": {
           "diverging": [
            [
             0,
             "rgb(103,0,31)"
            ],
            [
             0.1,
             "rgb(178,24,43)"
            ],
            [
             0.2,
             "rgb(214,96,77)"
            ],
            [
             0.3,
             "rgb(244,165,130)"
            ],
            [
             0.4,
             "rgb(253,219,199)"
            ],
            [
             0.5,
             "rgb(247,247,247)"
            ],
            [
             0.6,
             "rgb(209,229,240)"
            ],
            [
             0.7,
             "rgb(146,197,222)"
            ],
            [
             0.8,
             "rgb(67,147,195)"
            ],
            [
             0.9,
             "rgb(33,102,172)"
            ],
            [
             1,
             "rgb(5,48,97)"
            ]
           ],
           "sequential": [
            [
             0,
             "#440154"
            ],
            [
             0.1111111111111111,
             "#482878"
            ],
            [
             0.2222222222222222,
             "#3e4989"
            ],
            [
             0.3333333333333333,
             "#31688e"
            ],
            [
             0.4444444444444444,
             "#26828e"
            ],
            [
             0.5555555555555556,
             "#1f9e89"
            ],
            [
             0.6666666666666666,
             "#35b779"
            ],
            [
             0.7777777777777778,
             "#6ece58"
            ],
            [
             0.8888888888888888,
             "#b5de2b"
            ],
            [
             1,
             "#fde725"
            ]
           ],
           "sequentialminus": [
            [
             0,
             "#440154"
            ],
            [
             0.1111111111111111,
             "#482878"
            ],
            [
             0.2222222222222222,
             "#3e4989"
            ],
            [
             0.3333333333333333,
             "#31688e"
            ],
            [
             0.4444444444444444,
             "#26828e"
            ],
            [
             0.5555555555555556,
             "#1f9e89"
            ],
            [
             0.6666666666666666,
             "#35b779"
            ],
            [
             0.7777777777777778,
             "#6ece58"
            ],
            [
             0.8888888888888888,
             "#b5de2b"
            ],
            [
             1,
             "#fde725"
            ]
           ]
          },
          "colorway": [
           "#1F77B4",
           "#FF7F0E",
           "#2CA02C",
           "#D62728",
           "#9467BD",
           "#8C564B",
           "#E377C2",
           "#7F7F7F",
           "#BCBD22",
           "#17BECF"
          ],
          "font": {
           "color": "rgb(36,36,36)"
          },
          "geo": {
           "bgcolor": "white",
           "lakecolor": "white",
           "landcolor": "white",
           "showlakes": true,
           "showland": true,
           "subunitcolor": "white"
          },
          "hoverlabel": {
           "align": "left"
          },
          "hovermode": "closest",
          "mapbox": {
           "style": "light"
          },
          "paper_bgcolor": "white",
          "plot_bgcolor": "white",
          "polar": {
           "angularaxis": {
            "gridcolor": "rgb(232,232,232)",
            "linecolor": "rgb(36,36,36)",
            "showgrid": false,
            "showline": true,
            "ticks": "outside"
           },
           "bgcolor": "white",
           "radialaxis": {
            "gridcolor": "rgb(232,232,232)",
            "linecolor": "rgb(36,36,36)",
            "showgrid": false,
            "showline": true,
            "ticks": "outside"
           }
          },
          "scene": {
           "xaxis": {
            "backgroundcolor": "white",
            "gridcolor": "rgb(232,232,232)",
            "gridwidth": 2,
            "linecolor": "rgb(36,36,36)",
            "showbackground": true,
            "showgrid": false,
            "showline": true,
            "ticks": "outside",
            "zeroline": false,
            "zerolinecolor": "rgb(36,36,36)"
           },
           "yaxis": {
            "backgroundcolor": "white",
            "gridcolor": "rgb(232,232,232)",
            "gridwidth": 2,
            "linecolor": "rgb(36,36,36)",
            "showbackground": true,
            "showgrid": false,
            "showline": true,
            "ticks": "outside",
            "zeroline": false,
            "zerolinecolor": "rgb(36,36,36)"
           },
           "zaxis": {
            "backgroundcolor": "white",
            "gridcolor": "rgb(232,232,232)",
            "gridwidth": 2,
            "linecolor": "rgb(36,36,36)",
            "showbackground": true,
            "showgrid": false,
            "showline": true,
            "ticks": "outside",
            "zeroline": false,
            "zerolinecolor": "rgb(36,36,36)"
           }
          },
          "shapedefaults": {
           "fillcolor": "black",
           "line": {
            "width": 0
           },
           "opacity": 0.3
          },
          "ternary": {
           "aaxis": {
            "gridcolor": "rgb(232,232,232)",
            "linecolor": "rgb(36,36,36)",
            "showgrid": false,
            "showline": true,
            "ticks": "outside"
           },
           "baxis": {
            "gridcolor": "rgb(232,232,232)",
            "linecolor": "rgb(36,36,36)",
            "showgrid": false,
            "showline": true,
            "ticks": "outside"
           },
           "bgcolor": "white",
           "caxis": {
            "gridcolor": "rgb(232,232,232)",
            "linecolor": "rgb(36,36,36)",
            "showgrid": false,
            "showline": true,
            "ticks": "outside"
           }
          },
          "title": {
           "x": 0.05
          },
          "xaxis": {
           "automargin": true,
           "gridcolor": "rgb(232,232,232)",
           "linecolor": "rgb(36,36,36)",
           "showgrid": false,
           "showline": true,
           "ticks": "outside",
           "title": {
            "standoff": 15
           },
           "zeroline": false,
           "zerolinecolor": "rgb(36,36,36)"
          },
          "yaxis": {
           "automargin": true,
           "gridcolor": "rgb(232,232,232)",
           "linecolor": "rgb(36,36,36)",
           "showgrid": false,
           "showline": true,
           "ticks": "outside",
           "title": {
            "standoff": 15
           },
           "zeroline": false,
           "zerolinecolor": "rgb(36,36,36)"
          }
         }
        },
        "title": {
         "text": "CHEAPEST SUBSCRIPTIONS",
         "x": 0.5
        },
        "xaxis": {
         "showline": false,
         "tickfont": {
          "size": 15
         }
        },
        "yaxis": {
         "visible": false
        }
       }
      }
     },
     "metadata": {},
     "output_type": "display_data"
    }
   ],
   "source": [
    "fig1 = px.line(df_cheap,\n",
    "            x=\"Country\",\n",
    "            y=\"avg_basic\",\n",
    "            custom_data=[df_cheap[\"avg_basic\"].apply(lambda x: \"Avg. Basic: $\"+str(x))],\n",
    "            color_discrete_sequence=[\"rgb(255,49,38)\"])\n",
    "\n",
    "fig1.update_traces(hovertemplate=\"<br>\".join([\"<b>%{customdata[0]}<b>\"]))\n",
    "\n",
    "fig2 = px.line(df_cheap,\n",
    "            x=\"Country\",\n",
    "            y=\"avg_std\",\n",
    "            custom_data=[df_cheap[\"avg_std\"].apply(lambda x: \"Avg. Standart: $\"+str(x))],\n",
    "            color_discrete_sequence=[\"rgb(255,49,38)\"])\n",
    "\n",
    "fig2.update_traces(hovertemplate=\"<br>\".join([\"<b>%{customdata[0]}<b>\"]))\n",
    "\n",
    "fig3 = px.line(df_cheap,\n",
    "            x=\"Country\",\n",
    "            y=\"avg_prem\",\n",
    "            custom_data=[df_cheap[\"avg_prem\"].apply(lambda x: \"Avg. Premium: $\"+str(x))],\n",
    "            color_discrete_sequence=[\"rgb(255,49,38)\"])\n",
    "\n",
    "fig3.update_traces(hovertemplate=\"<br>\".join([\"<b>%{customdata[0]}<b>\"]))\n",
    "\n",
    "fig4 = px.bar(df_cheap,\n",
    "            x=\"Country\",\n",
    "            y=\"Cost Per Month - Basic ($)\",\n",
    "            custom_data=[df_cheap[\"Cost Per Month - Basic ($)\"].apply(lambda x: \"Basic: $\"+str(x))],\n",
    "            color_discrete_sequence=[\"rgb(207,207,196)\"])\n",
    "\n",
    "fig4.update_traces(hovertemplate=\"<br>\".join([\"<b>%{customdata[0]}<b>\"]))\n",
    "\n",
    "fig5 = px.bar(df_cheap,\n",
    "            x=\"Country\",\n",
    "            y=\"Cost Per Month - Standard ($)\",\n",
    "            custom_data=[df_cheap[\"Cost Per Month - Standard ($)\"].apply(lambda x: \"Standart: $\"+str(x))],\n",
    "            color_discrete_sequence=[\"rgb(60,60,49)\"])\n",
    "\n",
    "fig5.update_traces(hovertemplate=\"<br>\".join([\"<b>%{customdata[0]}<b>\"]))\n",
    "\n",
    "fig6 = px.bar(df_cheap,\n",
    "            x=\"Country\",\n",
    "            y=\"Cost Per Month - Premium ($)\",\n",
    "            custom_data=[df_cheap[\"Cost Per Month - Premium ($)\"].apply(lambda x: \"Premium: $\"+str(x))],\n",
    "            color_discrete_sequence=[\"rgb(29,28,26)\"])\n",
    "\n",
    "fig6.update_traces(hovertemplate=\"<br>\".join([\"<b>%{customdata[0]}<b>\"]))\n",
    "\n",
    "fig_cheap = go.Figure(data=fig3.data + fig2.data + fig1.data + fig6.data + fig5.data + fig4.data)\n",
    "\n",
    "fig_cheap.add_layout_image(\n",
    "    dict(\n",
    "        source=\"https://upload.wikimedia.org/wikipedia/commons/thumb/f/ff/Netflix-new-icon.png/768px-Netflix-new-icon.png\",\n",
    "        xref=\"paper\", yref=\"paper\",\n",
    "        x=0, y=1.083,\n",
    "        sizex=0.25, sizey=0.25,\n",
    "        xanchor=\"right\", yanchor=\"bottom\"\n",
    "    )\n",
    ")\n",
    "\n",
    "fig_cheap.update_layout(\n",
    "    hoverlabel=dict(\n",
    "        bgcolor=\"white\",\n",
    "        font_color=\"black\",\n",
    "        font_size=13,\n",
    "        font_family=\"Rockwell\"\n",
    "    )\n",
    ")\n",
    "\n",
    "fig_cheap.update_yaxes(visible=False)\n",
    "fig_cheap.update_xaxes(showline=False, tickfont=dict(size=15))\n",
    "\n",
    "fig_cheap.update_layout(hovermode=\"x unified\", template=\"simple_white\", title=\"CHEAPEST SUBSCRIPTIONS\")\n",
    "\n",
    "fig_cheap.update_layout(title_x=0.5,\n",
    "    font_family=\"Rockwell\",\n",
    "    font_size=15,\n",
    "    legend=dict(\n",
    "        orientation=\"h\", y=1, yanchor=\"bottom\", x=0.5, xanchor=\"center\"\n",
    "    )\n",
    ")\n",
    "\n",
    "fig_cheap.add_annotation(text=\"Avg. -Basic\", x=df_cheap[\"Country\"].iloc[0], y=8.36,font_size=15, showarrow=False, xshift=-100)\n",
    "fig_cheap.add_annotation(text=\"Avg. -Standart\", x=df_cheap[\"Country\"].iloc[0], y=11.9,font_size=15, showarrow=False, xshift=-100)\n",
    "fig_cheap.add_annotation(text=\"Avg. -Premium\", x=df_cheap[\"Country\"].iloc[0], y=15.6,font_size=15, showarrow=False, xshift=-100)"
   ]
  },
  {
   "cell_type": "code",
   "execution_count": 163,
   "metadata": {},
   "outputs": [
    {
     "data": {
      "text/html": [
       "<div>\n",
       "<style scoped>\n",
       "    .dataframe tbody tr th:only-of-type {\n",
       "        vertical-align: middle;\n",
       "    }\n",
       "\n",
       "    .dataframe tbody tr th {\n",
       "        vertical-align: top;\n",
       "    }\n",
       "\n",
       "    .dataframe thead th {\n",
       "        text-align: right;\n",
       "    }\n",
       "</style>\n",
       "<table border=\"1\" class=\"dataframe\">\n",
       "  <thead>\n",
       "    <tr style=\"text-align: right;\">\n",
       "      <th></th>\n",
       "      <th>Country</th>\n",
       "      <th>Total Library Size</th>\n",
       "      <th>No. of TV Shows</th>\n",
       "      <th>No. of Movies</th>\n",
       "      <th>Cost Per Month - Basic ($)</th>\n",
       "      <th>Cost Per Month - Standard ($)</th>\n",
       "      <th>Cost Per Month - Premium ($)</th>\n",
       "      <th>avg_cost</th>\n",
       "      <th>avg_basic</th>\n",
       "      <th>avg_std</th>\n",
       "      <th>avg_prem</th>\n",
       "      <th>basic_diff</th>\n",
       "      <th>std_diff</th>\n",
       "      <th>prem_diff</th>\n",
       "    </tr>\n",
       "  </thead>\n",
       "  <tbody>\n",
       "    <tr>\n",
       "      <th>55</th>\n",
       "      <td>Austria</td>\n",
       "      <td>5640</td>\n",
       "      <td>3779</td>\n",
       "      <td>1861</td>\n",
       "      <td>9.03</td>\n",
       "      <td>14.67</td>\n",
       "      <td>20.32</td>\n",
       "      <td>14.6</td>\n",
       "      <td>8.36</td>\n",
       "      <td>11.9</td>\n",
       "      <td>15.6</td>\n",
       "      <td>0.66</td>\n",
       "      <td>2.76</td>\n",
       "      <td>4.72</td>\n",
       "    </tr>\n",
       "    <tr>\n",
       "      <th>56</th>\n",
       "      <td>Ireland</td>\n",
       "      <td>6486</td>\n",
       "      <td>4515</td>\n",
       "      <td>1971</td>\n",
       "      <td>9.03</td>\n",
       "      <td>14.67</td>\n",
       "      <td>20.32</td>\n",
       "      <td>14.6</td>\n",
       "      <td>8.36</td>\n",
       "      <td>11.9</td>\n",
       "      <td>15.6</td>\n",
       "      <td>0.66</td>\n",
       "      <td>2.76</td>\n",
       "      <td>4.72</td>\n",
       "    </tr>\n",
       "    <tr>\n",
       "      <th>57</th>\n",
       "      <td>Iceland</td>\n",
       "      <td>6387</td>\n",
       "      <td>4426</td>\n",
       "      <td>1961</td>\n",
       "      <td>9.03</td>\n",
       "      <td>14.67</td>\n",
       "      <td>20.32</td>\n",
       "      <td>14.6</td>\n",
       "      <td>8.36</td>\n",
       "      <td>11.9</td>\n",
       "      <td>15.6</td>\n",
       "      <td>0.66</td>\n",
       "      <td>2.76</td>\n",
       "      <td>4.72</td>\n",
       "    </tr>\n",
       "    <tr>\n",
       "      <th>58</th>\n",
       "      <td>Sweden</td>\n",
       "      <td>4361</td>\n",
       "      <td>2973</td>\n",
       "      <td>1388</td>\n",
       "      <td>10.90</td>\n",
       "      <td>14.20</td>\n",
       "      <td>19.70</td>\n",
       "      <td>14.9</td>\n",
       "      <td>8.36</td>\n",
       "      <td>11.9</td>\n",
       "      <td>15.6</td>\n",
       "      <td>2.54</td>\n",
       "      <td>2.29</td>\n",
       "      <td>4.10</td>\n",
       "    </tr>\n",
       "    <tr>\n",
       "      <th>59</th>\n",
       "      <td>Israel</td>\n",
       "      <td>5713</td>\n",
       "      <td>3650</td>\n",
       "      <td>2063</td>\n",
       "      <td>10.56</td>\n",
       "      <td>15.05</td>\n",
       "      <td>19.54</td>\n",
       "      <td>15.0</td>\n",
       "      <td>8.36</td>\n",
       "      <td>11.9</td>\n",
       "      <td>15.6</td>\n",
       "      <td>2.20</td>\n",
       "      <td>3.15</td>\n",
       "      <td>3.93</td>\n",
       "    </tr>\n",
       "    <tr>\n",
       "      <th>60</th>\n",
       "      <td>France</td>\n",
       "      <td>5445</td>\n",
       "      <td>3604</td>\n",
       "      <td>1841</td>\n",
       "      <td>10.16</td>\n",
       "      <td>15.24</td>\n",
       "      <td>20.32</td>\n",
       "      <td>15.2</td>\n",
       "      <td>8.36</td>\n",
       "      <td>11.9</td>\n",
       "      <td>15.6</td>\n",
       "      <td>1.80</td>\n",
       "      <td>3.34</td>\n",
       "      <td>4.72</td>\n",
       "    </tr>\n",
       "    <tr>\n",
       "      <th>61</th>\n",
       "      <td>Belgium</td>\n",
       "      <td>4990</td>\n",
       "      <td>3374</td>\n",
       "      <td>1616</td>\n",
       "      <td>10.16</td>\n",
       "      <td>15.24</td>\n",
       "      <td>20.32</td>\n",
       "      <td>15.2</td>\n",
       "      <td>8.36</td>\n",
       "      <td>11.9</td>\n",
       "      <td>15.6</td>\n",
       "      <td>1.80</td>\n",
       "      <td>3.34</td>\n",
       "      <td>4.72</td>\n",
       "    </tr>\n",
       "    <tr>\n",
       "      <th>62</th>\n",
       "      <td>Denmark</td>\n",
       "      <td>4558</td>\n",
       "      <td>2978</td>\n",
       "      <td>1580</td>\n",
       "      <td>12.00</td>\n",
       "      <td>15.04</td>\n",
       "      <td>19.60</td>\n",
       "      <td>15.5</td>\n",
       "      <td>8.36</td>\n",
       "      <td>11.9</td>\n",
       "      <td>15.6</td>\n",
       "      <td>3.64</td>\n",
       "      <td>3.13</td>\n",
       "      <td>4.00</td>\n",
       "    </tr>\n",
       "    <tr>\n",
       "      <th>63</th>\n",
       "      <td>Liechtenstein</td>\n",
       "      <td>3048</td>\n",
       "      <td>1712</td>\n",
       "      <td>1336</td>\n",
       "      <td>12.88</td>\n",
       "      <td>20.46</td>\n",
       "      <td>26.96</td>\n",
       "      <td>20.1</td>\n",
       "      <td>8.36</td>\n",
       "      <td>11.9</td>\n",
       "      <td>15.6</td>\n",
       "      <td>4.52</td>\n",
       "      <td>8.56</td>\n",
       "      <td>11.30</td>\n",
       "    </tr>\n",
       "    <tr>\n",
       "      <th>64</th>\n",
       "      <td>Switzerland</td>\n",
       "      <td>5506</td>\n",
       "      <td>3654</td>\n",
       "      <td>1852</td>\n",
       "      <td>12.88</td>\n",
       "      <td>20.46</td>\n",
       "      <td>26.96</td>\n",
       "      <td>20.1</td>\n",
       "      <td>8.36</td>\n",
       "      <td>11.9</td>\n",
       "      <td>15.6</td>\n",
       "      <td>4.52</td>\n",
       "      <td>8.56</td>\n",
       "      <td>11.30</td>\n",
       "    </tr>\n",
       "  </tbody>\n",
       "</table>\n",
       "</div>"
      ],
      "text/plain": [
       "          Country  Total Library Size  No. of TV Shows  No. of Movies  \\\n",
       "55        Austria                5640             3779           1861   \n",
       "56        Ireland                6486             4515           1971   \n",
       "57        Iceland                6387             4426           1961   \n",
       "58         Sweden                4361             2973           1388   \n",
       "59         Israel                5713             3650           2063   \n",
       "60         France                5445             3604           1841   \n",
       "61        Belgium                4990             3374           1616   \n",
       "62        Denmark                4558             2978           1580   \n",
       "63  Liechtenstein                3048             1712           1336   \n",
       "64    Switzerland                5506             3654           1852   \n",
       "\n",
       "    Cost Per Month - Basic ($)  Cost Per Month - Standard ($)  \\\n",
       "55                        9.03                          14.67   \n",
       "56                        9.03                          14.67   \n",
       "57                        9.03                          14.67   \n",
       "58                       10.90                          14.20   \n",
       "59                       10.56                          15.05   \n",
       "60                       10.16                          15.24   \n",
       "61                       10.16                          15.24   \n",
       "62                       12.00                          15.04   \n",
       "63                       12.88                          20.46   \n",
       "64                       12.88                          20.46   \n",
       "\n",
       "    Cost Per Month - Premium ($)  avg_cost  avg_basic  avg_std  avg_prem  \\\n",
       "55                         20.32      14.6       8.36     11.9      15.6   \n",
       "56                         20.32      14.6       8.36     11.9      15.6   \n",
       "57                         20.32      14.6       8.36     11.9      15.6   \n",
       "58                         19.70      14.9       8.36     11.9      15.6   \n",
       "59                         19.54      15.0       8.36     11.9      15.6   \n",
       "60                         20.32      15.2       8.36     11.9      15.6   \n",
       "61                         20.32      15.2       8.36     11.9      15.6   \n",
       "62                         19.60      15.5       8.36     11.9      15.6   \n",
       "63                         26.96      20.1       8.36     11.9      15.6   \n",
       "64                         26.96      20.1       8.36     11.9      15.6   \n",
       "\n",
       "    basic_diff  std_diff  prem_diff  \n",
       "55        0.66      2.76       4.72  \n",
       "56        0.66      2.76       4.72  \n",
       "57        0.66      2.76       4.72  \n",
       "58        2.54      2.29       4.10  \n",
       "59        2.20      3.15       3.93  \n",
       "60        1.80      3.34       4.72  \n",
       "61        1.80      3.34       4.72  \n",
       "62        3.64      3.13       4.00  \n",
       "63        4.52      8.56      11.30  \n",
       "64        4.52      8.56      11.30  "
      ]
     },
     "execution_count": 163,
     "metadata": {},
     "output_type": "execute_result"
    }
   ],
   "source": [
    "# Cost per Country Cheapest Top 10 ($)\n",
    "df_exp = df.sort_values(by=\"avg_cost\").reset_index(drop=True)[-10:]\n",
    "df_exp"
   ]
  },
  {
   "cell_type": "code",
   "execution_count": 176,
   "metadata": {},
   "outputs": [
    {
     "data": {
      "application/vnd.plotly.v1+json": {
       "config": {
        "plotlyServerURL": "https://plot.ly"
       },
       "data": [
        {
         "customdata": [
          [
           "Avg. Premium: $15.6"
          ],
          [
           "Avg. Premium: $15.6"
          ],
          [
           "Avg. Premium: $15.6"
          ],
          [
           "Avg. Premium: $15.6"
          ],
          [
           "Avg. Premium: $15.6"
          ],
          [
           "Avg. Premium: $15.6"
          ],
          [
           "Avg. Premium: $15.6"
          ],
          [
           "Avg. Premium: $15.6"
          ],
          [
           "Avg. Premium: $15.6"
          ],
          [
           "Avg. Premium: $15.6"
          ]
         ],
         "hovertemplate": "<b>%{customdata[0]}<b>",
         "legendgroup": "",
         "line": {
          "color": "rgb(255,49,38)",
          "dash": "solid"
         },
         "marker": {
          "symbol": "circle"
         },
         "mode": "lines",
         "name": "",
         "orientation": "v",
         "showlegend": false,
         "type": "scatter",
         "x": [
          "Austria",
          "Ireland",
          "Iceland",
          "Sweden",
          "Israel",
          "France",
          "Belgium",
          "Denmark",
          "Liechtenstein",
          "Switzerland"
         ],
         "xaxis": "x",
         "y": [
          15.6,
          15.6,
          15.6,
          15.6,
          15.6,
          15.6,
          15.6,
          15.6,
          15.6,
          15.6
         ],
         "yaxis": "y"
        },
        {
         "customdata": [
          [
           "Avg. Standart: $11.9"
          ],
          [
           "Avg. Standart: $11.9"
          ],
          [
           "Avg. Standart: $11.9"
          ],
          [
           "Avg. Standart: $11.9"
          ],
          [
           "Avg. Standart: $11.9"
          ],
          [
           "Avg. Standart: $11.9"
          ],
          [
           "Avg. Standart: $11.9"
          ],
          [
           "Avg. Standart: $11.9"
          ],
          [
           "Avg. Standart: $11.9"
          ],
          [
           "Avg. Standart: $11.9"
          ]
         ],
         "hovertemplate": "<b>%{customdata[0]}<b>",
         "legendgroup": "",
         "line": {
          "color": "rgb(255,49,38)",
          "dash": "solid"
         },
         "marker": {
          "symbol": "circle"
         },
         "mode": "lines",
         "name": "",
         "orientation": "v",
         "showlegend": false,
         "type": "scatter",
         "x": [
          "Austria",
          "Ireland",
          "Iceland",
          "Sweden",
          "Israel",
          "France",
          "Belgium",
          "Denmark",
          "Liechtenstein",
          "Switzerland"
         ],
         "xaxis": "x",
         "y": [
          11.9,
          11.9,
          11.9,
          11.9,
          11.9,
          11.9,
          11.9,
          11.9,
          11.9,
          11.9
         ],
         "yaxis": "y"
        },
        {
         "customdata": [
          [
           "Avg. Basic: $8.36"
          ],
          [
           "Avg. Basic: $8.36"
          ],
          [
           "Avg. Basic: $8.36"
          ],
          [
           "Avg. Basic: $8.36"
          ],
          [
           "Avg. Basic: $8.36"
          ],
          [
           "Avg. Basic: $8.36"
          ],
          [
           "Avg. Basic: $8.36"
          ],
          [
           "Avg. Basic: $8.36"
          ],
          [
           "Avg. Basic: $8.36"
          ],
          [
           "Avg. Basic: $8.36"
          ]
         ],
         "hovertemplate": "<b>%{customdata[0]}<b>",
         "legendgroup": "",
         "line": {
          "color": "rgb(255,49,38)",
          "dash": "solid"
         },
         "marker": {
          "symbol": "circle"
         },
         "mode": "lines",
         "name": "",
         "orientation": "v",
         "showlegend": false,
         "type": "scatter",
         "x": [
          "Austria",
          "Ireland",
          "Iceland",
          "Sweden",
          "Israel",
          "France",
          "Belgium",
          "Denmark",
          "Liechtenstein",
          "Switzerland"
         ],
         "xaxis": "x",
         "y": [
          8.36,
          8.36,
          8.36,
          8.36,
          8.36,
          8.36,
          8.36,
          8.36,
          8.36,
          8.36
         ],
         "yaxis": "y"
        },
        {
         "alignmentgroup": "True",
         "customdata": [
          [
           "Premium: $20.32"
          ],
          [
           "Premium: $20.32"
          ],
          [
           "Premium: $20.32"
          ],
          [
           "Premium: $19.7"
          ],
          [
           "Premium: $19.54"
          ],
          [
           "Premium: $20.32"
          ],
          [
           "Premium: $20.32"
          ],
          [
           "Premium: $19.6"
          ],
          [
           "Premium: $26.96"
          ],
          [
           "Premium: $26.96"
          ]
         ],
         "hovertemplate": "<b>%{customdata[0]}<b>",
         "legendgroup": "",
         "marker": {
          "color": "rgb(29,28,26)",
          "pattern": {
           "shape": ""
          }
         },
         "name": "",
         "offsetgroup": "",
         "orientation": "v",
         "showlegend": false,
         "textposition": "auto",
         "type": "bar",
         "x": [
          "Austria",
          "Ireland",
          "Iceland",
          "Sweden",
          "Israel",
          "France",
          "Belgium",
          "Denmark",
          "Liechtenstein",
          "Switzerland"
         ],
         "xaxis": "x",
         "y": [
          20.32,
          20.32,
          20.32,
          19.7,
          19.54,
          20.32,
          20.32,
          19.6,
          26.96,
          26.96
         ],
         "yaxis": "y"
        },
        {
         "alignmentgroup": "True",
         "customdata": [
          [
           "Standart: $14.67"
          ],
          [
           "Standart: $14.67"
          ],
          [
           "Standart: $14.67"
          ],
          [
           "Standart: $14.2"
          ],
          [
           "Standart: $15.05"
          ],
          [
           "Standart: $15.24"
          ],
          [
           "Standart: $15.24"
          ],
          [
           "Standart: $15.04"
          ],
          [
           "Standart: $20.46"
          ],
          [
           "Standart: $20.46"
          ]
         ],
         "hovertemplate": "<b>%{customdata[0]}<b>",
         "legendgroup": "",
         "marker": {
          "color": "rgb(60,60,49)",
          "pattern": {
           "shape": ""
          }
         },
         "name": "",
         "offsetgroup": "",
         "orientation": "v",
         "showlegend": false,
         "textposition": "auto",
         "type": "bar",
         "x": [
          "Austria",
          "Ireland",
          "Iceland",
          "Sweden",
          "Israel",
          "France",
          "Belgium",
          "Denmark",
          "Liechtenstein",
          "Switzerland"
         ],
         "xaxis": "x",
         "y": [
          14.67,
          14.67,
          14.67,
          14.2,
          15.05,
          15.24,
          15.24,
          15.04,
          20.46,
          20.46
         ],
         "yaxis": "y"
        },
        {
         "alignmentgroup": "True",
         "customdata": [
          [
           "Basic: $9.03"
          ],
          [
           "Basic: $9.03"
          ],
          [
           "Basic: $9.03"
          ],
          [
           "Basic: $10.9"
          ],
          [
           "Basic: $10.56"
          ],
          [
           "Basic: $10.16"
          ],
          [
           "Basic: $10.16"
          ],
          [
           "Basic: $12.0"
          ],
          [
           "Basic: $12.88"
          ],
          [
           "Basic: $12.88"
          ]
         ],
         "hovertemplate": "<b>%{customdata[0]}<b>",
         "legendgroup": "",
         "marker": {
          "color": "rgb(207,207,196)",
          "pattern": {
           "shape": ""
          }
         },
         "name": "",
         "offsetgroup": "",
         "orientation": "v",
         "showlegend": false,
         "textposition": "auto",
         "type": "bar",
         "x": [
          "Austria",
          "Ireland",
          "Iceland",
          "Sweden",
          "Israel",
          "France",
          "Belgium",
          "Denmark",
          "Liechtenstein",
          "Switzerland"
         ],
         "xaxis": "x",
         "y": [
          9.03,
          9.03,
          9.03,
          10.9,
          10.56,
          10.16,
          10.16,
          12,
          12.88,
          12.88
         ],
         "yaxis": "y"
        }
       ],
       "layout": {
        "annotations": [
         {
          "font": {
           "size": 15
          },
          "showarrow": false,
          "text": "Avg -Basic",
          "x": "Austria",
          "xshift": -100,
          "y": 8.36
         },
         {
          "font": {
           "size": 15
          },
          "showarrow": false,
          "text": "Avg -Standart",
          "x": "Austria",
          "xshift": -100,
          "y": 11.9
         },
         {
          "font": {
           "size": 15
          },
          "showarrow": false,
          "text": "Avg -Premium",
          "x": "Austria",
          "xshift": -100,
          "y": 15.6
         }
        ],
        "font": {
         "family": "Rockwell",
         "size": 15
        },
        "hoverlabel": {
         "bgcolor": "white",
         "font": {
          "color": "black",
          "family": "Rockwell",
          "size": 13
         }
        },
        "hovermode": "x unified",
        "images": [
         {
          "sizex": 0.25,
          "sizey": 0.25,
          "source": "https://upload.wikimedia.org/wikipedia/commons/thumb/f/ff/Netflix-new-icon.png/768px-Netflix-new-icon.png",
          "x": 0,
          "xanchor": "right",
          "xref": "paper",
          "y": 1.083,
          "yanchor": "bottom",
          "yref": "paper"
         }
        ],
        "legend": {
         "orientation": "h",
         "x": 0.5,
         "xanchor": "center",
         "y": 1,
         "yanchor": "bottom"
        },
        "template": {
         "data": {
          "bar": [
           {
            "error_x": {
             "color": "rgb(36,36,36)"
            },
            "error_y": {
             "color": "rgb(36,36,36)"
            },
            "marker": {
             "line": {
              "color": "white",
              "width": 0.5
             },
             "pattern": {
              "fillmode": "overlay",
              "size": 10,
              "solidity": 0.2
             }
            },
            "type": "bar"
           }
          ],
          "barpolar": [
           {
            "marker": {
             "line": {
              "color": "white",
              "width": 0.5
             },
             "pattern": {
              "fillmode": "overlay",
              "size": 10,
              "solidity": 0.2
             }
            },
            "type": "barpolar"
           }
          ],
          "carpet": [
           {
            "aaxis": {
             "endlinecolor": "rgb(36,36,36)",
             "gridcolor": "white",
             "linecolor": "white",
             "minorgridcolor": "white",
             "startlinecolor": "rgb(36,36,36)"
            },
            "baxis": {
             "endlinecolor": "rgb(36,36,36)",
             "gridcolor": "white",
             "linecolor": "white",
             "minorgridcolor": "white",
             "startlinecolor": "rgb(36,36,36)"
            },
            "type": "carpet"
           }
          ],
          "choropleth": [
           {
            "colorbar": {
             "outlinewidth": 1,
             "tickcolor": "rgb(36,36,36)",
             "ticks": "outside"
            },
            "type": "choropleth"
           }
          ],
          "contour": [
           {
            "colorbar": {
             "outlinewidth": 1,
             "tickcolor": "rgb(36,36,36)",
             "ticks": "outside"
            },
            "colorscale": [
             [
              0,
              "#440154"
             ],
             [
              0.1111111111111111,
              "#482878"
             ],
             [
              0.2222222222222222,
              "#3e4989"
             ],
             [
              0.3333333333333333,
              "#31688e"
             ],
             [
              0.4444444444444444,
              "#26828e"
             ],
             [
              0.5555555555555556,
              "#1f9e89"
             ],
             [
              0.6666666666666666,
              "#35b779"
             ],
             [
              0.7777777777777778,
              "#6ece58"
             ],
             [
              0.8888888888888888,
              "#b5de2b"
             ],
             [
              1,
              "#fde725"
             ]
            ],
            "type": "contour"
           }
          ],
          "contourcarpet": [
           {
            "colorbar": {
             "outlinewidth": 1,
             "tickcolor": "rgb(36,36,36)",
             "ticks": "outside"
            },
            "type": "contourcarpet"
           }
          ],
          "heatmap": [
           {
            "colorbar": {
             "outlinewidth": 1,
             "tickcolor": "rgb(36,36,36)",
             "ticks": "outside"
            },
            "colorscale": [
             [
              0,
              "#440154"
             ],
             [
              0.1111111111111111,
              "#482878"
             ],
             [
              0.2222222222222222,
              "#3e4989"
             ],
             [
              0.3333333333333333,
              "#31688e"
             ],
             [
              0.4444444444444444,
              "#26828e"
             ],
             [
              0.5555555555555556,
              "#1f9e89"
             ],
             [
              0.6666666666666666,
              "#35b779"
             ],
             [
              0.7777777777777778,
              "#6ece58"
             ],
             [
              0.8888888888888888,
              "#b5de2b"
             ],
             [
              1,
              "#fde725"
             ]
            ],
            "type": "heatmap"
           }
          ],
          "heatmapgl": [
           {
            "colorbar": {
             "outlinewidth": 1,
             "tickcolor": "rgb(36,36,36)",
             "ticks": "outside"
            },
            "colorscale": [
             [
              0,
              "#440154"
             ],
             [
              0.1111111111111111,
              "#482878"
             ],
             [
              0.2222222222222222,
              "#3e4989"
             ],
             [
              0.3333333333333333,
              "#31688e"
             ],
             [
              0.4444444444444444,
              "#26828e"
             ],
             [
              0.5555555555555556,
              "#1f9e89"
             ],
             [
              0.6666666666666666,
              "#35b779"
             ],
             [
              0.7777777777777778,
              "#6ece58"
             ],
             [
              0.8888888888888888,
              "#b5de2b"
             ],
             [
              1,
              "#fde725"
             ]
            ],
            "type": "heatmapgl"
           }
          ],
          "histogram": [
           {
            "marker": {
             "line": {
              "color": "white",
              "width": 0.6
             }
            },
            "type": "histogram"
           }
          ],
          "histogram2d": [
           {
            "colorbar": {
             "outlinewidth": 1,
             "tickcolor": "rgb(36,36,36)",
             "ticks": "outside"
            },
            "colorscale": [
             [
              0,
              "#440154"
             ],
             [
              0.1111111111111111,
              "#482878"
             ],
             [
              0.2222222222222222,
              "#3e4989"
             ],
             [
              0.3333333333333333,
              "#31688e"
             ],
             [
              0.4444444444444444,
              "#26828e"
             ],
             [
              0.5555555555555556,
              "#1f9e89"
             ],
             [
              0.6666666666666666,
              "#35b779"
             ],
             [
              0.7777777777777778,
              "#6ece58"
             ],
             [
              0.8888888888888888,
              "#b5de2b"
             ],
             [
              1,
              "#fde725"
             ]
            ],
            "type": "histogram2d"
           }
          ],
          "histogram2dcontour": [
           {
            "colorbar": {
             "outlinewidth": 1,
             "tickcolor": "rgb(36,36,36)",
             "ticks": "outside"
            },
            "colorscale": [
             [
              0,
              "#440154"
             ],
             [
              0.1111111111111111,
              "#482878"
             ],
             [
              0.2222222222222222,
              "#3e4989"
             ],
             [
              0.3333333333333333,
              "#31688e"
             ],
             [
              0.4444444444444444,
              "#26828e"
             ],
             [
              0.5555555555555556,
              "#1f9e89"
             ],
             [
              0.6666666666666666,
              "#35b779"
             ],
             [
              0.7777777777777778,
              "#6ece58"
             ],
             [
              0.8888888888888888,
              "#b5de2b"
             ],
             [
              1,
              "#fde725"
             ]
            ],
            "type": "histogram2dcontour"
           }
          ],
          "mesh3d": [
           {
            "colorbar": {
             "outlinewidth": 1,
             "tickcolor": "rgb(36,36,36)",
             "ticks": "outside"
            },
            "type": "mesh3d"
           }
          ],
          "parcoords": [
           {
            "line": {
             "colorbar": {
              "outlinewidth": 1,
              "tickcolor": "rgb(36,36,36)",
              "ticks": "outside"
             }
            },
            "type": "parcoords"
           }
          ],
          "pie": [
           {
            "automargin": true,
            "type": "pie"
           }
          ],
          "scatter": [
           {
            "marker": {
             "colorbar": {
              "outlinewidth": 1,
              "tickcolor": "rgb(36,36,36)",
              "ticks": "outside"
             }
            },
            "type": "scatter"
           }
          ],
          "scatter3d": [
           {
            "line": {
             "colorbar": {
              "outlinewidth": 1,
              "tickcolor": "rgb(36,36,36)",
              "ticks": "outside"
             }
            },
            "marker": {
             "colorbar": {
              "outlinewidth": 1,
              "tickcolor": "rgb(36,36,36)",
              "ticks": "outside"
             }
            },
            "type": "scatter3d"
           }
          ],
          "scattercarpet": [
           {
            "marker": {
             "colorbar": {
              "outlinewidth": 1,
              "tickcolor": "rgb(36,36,36)",
              "ticks": "outside"
             }
            },
            "type": "scattercarpet"
           }
          ],
          "scattergeo": [
           {
            "marker": {
             "colorbar": {
              "outlinewidth": 1,
              "tickcolor": "rgb(36,36,36)",
              "ticks": "outside"
             }
            },
            "type": "scattergeo"
           }
          ],
          "scattergl": [
           {
            "marker": {
             "colorbar": {
              "outlinewidth": 1,
              "tickcolor": "rgb(36,36,36)",
              "ticks": "outside"
             }
            },
            "type": "scattergl"
           }
          ],
          "scattermapbox": [
           {
            "marker": {
             "colorbar": {
              "outlinewidth": 1,
              "tickcolor": "rgb(36,36,36)",
              "ticks": "outside"
             }
            },
            "type": "scattermapbox"
           }
          ],
          "scatterpolar": [
           {
            "marker": {
             "colorbar": {
              "outlinewidth": 1,
              "tickcolor": "rgb(36,36,36)",
              "ticks": "outside"
             }
            },
            "type": "scatterpolar"
           }
          ],
          "scatterpolargl": [
           {
            "marker": {
             "colorbar": {
              "outlinewidth": 1,
              "tickcolor": "rgb(36,36,36)",
              "ticks": "outside"
             }
            },
            "type": "scatterpolargl"
           }
          ],
          "scatterternary": [
           {
            "marker": {
             "colorbar": {
              "outlinewidth": 1,
              "tickcolor": "rgb(36,36,36)",
              "ticks": "outside"
             }
            },
            "type": "scatterternary"
           }
          ],
          "surface": [
           {
            "colorbar": {
             "outlinewidth": 1,
             "tickcolor": "rgb(36,36,36)",
             "ticks": "outside"
            },
            "colorscale": [
             [
              0,
              "#440154"
             ],
             [
              0.1111111111111111,
              "#482878"
             ],
             [
              0.2222222222222222,
              "#3e4989"
             ],
             [
              0.3333333333333333,
              "#31688e"
             ],
             [
              0.4444444444444444,
              "#26828e"
             ],
             [
              0.5555555555555556,
              "#1f9e89"
             ],
             [
              0.6666666666666666,
              "#35b779"
             ],
             [
              0.7777777777777778,
              "#6ece58"
             ],
             [
              0.8888888888888888,
              "#b5de2b"
             ],
             [
              1,
              "#fde725"
             ]
            ],
            "type": "surface"
           }
          ],
          "table": [
           {
            "cells": {
             "fill": {
              "color": "rgb(237,237,237)"
             },
             "line": {
              "color": "white"
             }
            },
            "header": {
             "fill": {
              "color": "rgb(217,217,217)"
             },
             "line": {
              "color": "white"
             }
            },
            "type": "table"
           }
          ]
         },
         "layout": {
          "annotationdefaults": {
           "arrowhead": 0,
           "arrowwidth": 1
          },
          "autotypenumbers": "strict",
          "coloraxis": {
           "colorbar": {
            "outlinewidth": 1,
            "tickcolor": "rgb(36,36,36)",
            "ticks": "outside"
           }
          },
          "colorscale": {
           "diverging": [
            [
             0,
             "rgb(103,0,31)"
            ],
            [
             0.1,
             "rgb(178,24,43)"
            ],
            [
             0.2,
             "rgb(214,96,77)"
            ],
            [
             0.3,
             "rgb(244,165,130)"
            ],
            [
             0.4,
             "rgb(253,219,199)"
            ],
            [
             0.5,
             "rgb(247,247,247)"
            ],
            [
             0.6,
             "rgb(209,229,240)"
            ],
            [
             0.7,
             "rgb(146,197,222)"
            ],
            [
             0.8,
             "rgb(67,147,195)"
            ],
            [
             0.9,
             "rgb(33,102,172)"
            ],
            [
             1,
             "rgb(5,48,97)"
            ]
           ],
           "sequential": [
            [
             0,
             "#440154"
            ],
            [
             0.1111111111111111,
             "#482878"
            ],
            [
             0.2222222222222222,
             "#3e4989"
            ],
            [
             0.3333333333333333,
             "#31688e"
            ],
            [
             0.4444444444444444,
             "#26828e"
            ],
            [
             0.5555555555555556,
             "#1f9e89"
            ],
            [
             0.6666666666666666,
             "#35b779"
            ],
            [
             0.7777777777777778,
             "#6ece58"
            ],
            [
             0.8888888888888888,
             "#b5de2b"
            ],
            [
             1,
             "#fde725"
            ]
           ],
           "sequentialminus": [
            [
             0,
             "#440154"
            ],
            [
             0.1111111111111111,
             "#482878"
            ],
            [
             0.2222222222222222,
             "#3e4989"
            ],
            [
             0.3333333333333333,
             "#31688e"
            ],
            [
             0.4444444444444444,
             "#26828e"
            ],
            [
             0.5555555555555556,
             "#1f9e89"
            ],
            [
             0.6666666666666666,
             "#35b779"
            ],
            [
             0.7777777777777778,
             "#6ece58"
            ],
            [
             0.8888888888888888,
             "#b5de2b"
            ],
            [
             1,
             "#fde725"
            ]
           ]
          },
          "colorway": [
           "#1F77B4",
           "#FF7F0E",
           "#2CA02C",
           "#D62728",
           "#9467BD",
           "#8C564B",
           "#E377C2",
           "#7F7F7F",
           "#BCBD22",
           "#17BECF"
          ],
          "font": {
           "color": "rgb(36,36,36)"
          },
          "geo": {
           "bgcolor": "white",
           "lakecolor": "white",
           "landcolor": "white",
           "showlakes": true,
           "showland": true,
           "subunitcolor": "white"
          },
          "hoverlabel": {
           "align": "left"
          },
          "hovermode": "closest",
          "mapbox": {
           "style": "light"
          },
          "paper_bgcolor": "white",
          "plot_bgcolor": "white",
          "polar": {
           "angularaxis": {
            "gridcolor": "rgb(232,232,232)",
            "linecolor": "rgb(36,36,36)",
            "showgrid": false,
            "showline": true,
            "ticks": "outside"
           },
           "bgcolor": "white",
           "radialaxis": {
            "gridcolor": "rgb(232,232,232)",
            "linecolor": "rgb(36,36,36)",
            "showgrid": false,
            "showline": true,
            "ticks": "outside"
           }
          },
          "scene": {
           "xaxis": {
            "backgroundcolor": "white",
            "gridcolor": "rgb(232,232,232)",
            "gridwidth": 2,
            "linecolor": "rgb(36,36,36)",
            "showbackground": true,
            "showgrid": false,
            "showline": true,
            "ticks": "outside",
            "zeroline": false,
            "zerolinecolor": "rgb(36,36,36)"
           },
           "yaxis": {
            "backgroundcolor": "white",
            "gridcolor": "rgb(232,232,232)",
            "gridwidth": 2,
            "linecolor": "rgb(36,36,36)",
            "showbackground": true,
            "showgrid": false,
            "showline": true,
            "ticks": "outside",
            "zeroline": false,
            "zerolinecolor": "rgb(36,36,36)"
           },
           "zaxis": {
            "backgroundcolor": "white",
            "gridcolor": "rgb(232,232,232)",
            "gridwidth": 2,
            "linecolor": "rgb(36,36,36)",
            "showbackground": true,
            "showgrid": false,
            "showline": true,
            "ticks": "outside",
            "zeroline": false,
            "zerolinecolor": "rgb(36,36,36)"
           }
          },
          "shapedefaults": {
           "fillcolor": "black",
           "line": {
            "width": 0
           },
           "opacity": 0.3
          },
          "ternary": {
           "aaxis": {
            "gridcolor": "rgb(232,232,232)",
            "linecolor": "rgb(36,36,36)",
            "showgrid": false,
            "showline": true,
            "ticks": "outside"
           },
           "baxis": {
            "gridcolor": "rgb(232,232,232)",
            "linecolor": "rgb(36,36,36)",
            "showgrid": false,
            "showline": true,
            "ticks": "outside"
           },
           "bgcolor": "white",
           "caxis": {
            "gridcolor": "rgb(232,232,232)",
            "linecolor": "rgb(36,36,36)",
            "showgrid": false,
            "showline": true,
            "ticks": "outside"
           }
          },
          "title": {
           "x": 0.05
          },
          "xaxis": {
           "automargin": true,
           "gridcolor": "rgb(232,232,232)",
           "linecolor": "rgb(36,36,36)",
           "showgrid": false,
           "showline": true,
           "ticks": "outside",
           "title": {
            "standoff": 15
           },
           "zeroline": false,
           "zerolinecolor": "rgb(36,36,36)"
          },
          "yaxis": {
           "automargin": true,
           "gridcolor": "rgb(232,232,232)",
           "linecolor": "rgb(36,36,36)",
           "showgrid": false,
           "showline": true,
           "ticks": "outside",
           "title": {
            "standoff": 15
           },
           "zeroline": false,
           "zerolinecolor": "rgb(36,36,36)"
          }
         }
        },
        "title": {
         "text": "MOST EXPENSIVE SUBSCRIPTIONS",
         "x": 0.5
        },
        "xaxis": {
         "showline": false,
         "tickfont": {
          "size": 15
         }
        },
        "yaxis": {
         "visible": false
        }
       }
      }
     },
     "metadata": {},
     "output_type": "display_data"
    }
   ],
   "source": [
    "fig1 = px.line(df_exp,\n",
    "            x=\"Country\",\n",
    "            y=\"avg_basic\",\n",
    "            custom_data=[df_exp[\"avg_basic\"].apply(lambda x: \"Avg. Basic: $\"+str(x))],\n",
    "            color_discrete_sequence=[\"rgb(255,49,38)\"])\n",
    "\n",
    "fig1.update_traces(hovertemplate=\"<br>\".join([\"<b>%{customdata[0]}<b>\"]))\n",
    "\n",
    "fig2 = px.line(df_exp,\n",
    "            x=\"Country\",\n",
    "            y=\"avg_std\",\n",
    "            custom_data=[df_exp[\"avg_std\"].apply(lambda x: \"Avg. Standart: $\"+str(x))],\n",
    "            color_discrete_sequence=[\"rgb(255,49,38)\"])\n",
    "\n",
    "fig2.update_traces(hovertemplate=\"<br>\".join([\"<b>%{customdata[0]}<b>\"]))\n",
    "\n",
    "fig3 = px.line(df_exp,\n",
    "            x=\"Country\",\n",
    "            y=\"avg_prem\",\n",
    "            custom_data=[df_exp[\"avg_prem\"].apply(lambda x: \"Avg. Premium: $\"+str(x))],\n",
    "            color_discrete_sequence=[\"rgb(255,49,38)\"])\n",
    "\n",
    "fig3.update_traces(hovertemplate=\"<br>\".join([\"<b>%{customdata[0]}<b>\"]))\n",
    "\n",
    "fig4 = px.bar(df_exp,\n",
    "            x=\"Country\",\n",
    "            y=\"Cost Per Month - Basic ($)\",\n",
    "            custom_data=[df_exp[\"Cost Per Month - Basic ($)\"].apply(lambda x: \"Basic: $\"+str(x))],\n",
    "            color_discrete_sequence=[\"rgb(207,207,196)\"])\n",
    "\n",
    "fig4.update_traces(hovertemplate=\"<br>\".join([\"<b>%{customdata[0]}<b>\"]))\n",
    "\n",
    "fig5 = px.bar(df_exp,\n",
    "            x=\"Country\",\n",
    "            y=\"Cost Per Month - Standard ($)\",\n",
    "            custom_data=[df_exp[\"Cost Per Month - Standard ($)\"].apply(lambda x: \"Standart: $\"+str(x))],\n",
    "            color_discrete_sequence=[\"rgb(60,60,49)\"])\n",
    "\n",
    "fig5.update_traces(hovertemplate=\"<br>\".join([\"<b>%{customdata[0]}<b>\"]))\n",
    "\n",
    "fig6 = px.bar(df_exp,\n",
    "            x=\"Country\",\n",
    "            y=\"Cost Per Month - Premium ($)\",\n",
    "            custom_data=[df_exp[\"Cost Per Month - Premium ($)\"].apply(lambda x: \"Premium: $\"+str(x))],\n",
    "            color_discrete_sequence=[\"rgb(29,28,26)\"])\n",
    "\n",
    "fig6.update_traces(hovertemplate=\"<br>\".join([\"<b>%{customdata[0]}<b>\"]))\n",
    "\n",
    "fig_df_exp = go.Figure(data=fig3.data + fig2.data + fig1.data + fig6.data + fig5.data + fig4.data)\n",
    "\n",
    "fig_df_exp.add_layout_image(\n",
    "    dict(\n",
    "        source=\"https://upload.wikimedia.org/wikipedia/commons/thumb/f/ff/Netflix-new-icon.png/768px-Netflix-new-icon.png\",\n",
    "        xref=\"paper\", yref=\"paper\",\n",
    "        x=0, y=1.083,\n",
    "        sizex=0.25, sizey=0.25,\n",
    "        xanchor=\"right\", yanchor=\"bottom\"\n",
    "    )\n",
    ")\n",
    "\n",
    "fig_df_exp.update_layout(\n",
    "    hoverlabel=dict(\n",
    "        bgcolor=\"white\",\n",
    "        font_color=\"black\",\n",
    "        font_size=13,\n",
    "        font_family=\"Rockwell\"\n",
    "    )\n",
    ")\n",
    "\n",
    "fig_df_exp.update_yaxes(visible=False)\n",
    "fig_df_exp.update_xaxes(showline=False, tickfont=dict(size=15))\n",
    "\n",
    "fig_df_exp.update_layout(hovermode=\"x unified\", template=\"simple_white\", title=\"MOST EXPENSIVE SUBSCRIPTIONS\")\n",
    "\n",
    "fig_df_exp.update_layout(title_x=0.5,\n",
    "    font_family=\"Rockwell\",\n",
    "    font_size=15,\n",
    "    legend=dict(\n",
    "        orientation=\"h\", y=1, yanchor=\"bottom\", x=0.5, xanchor=\"center\"\n",
    "    )\n",
    ")\n",
    "\n",
    "fig_df_exp.add_annotation(text=\"Avg -Basic\", x=df_exp[\"Country\"].iloc[0], y=8.36,font_size=15, showarrow=False, xshift=-100)\n",
    "fig_df_exp.add_annotation(text=\"Avg -Standart\", x=df_exp[\"Country\"].iloc[0], y=11.9,font_size=15, showarrow=False, xshift=-100)\n",
    "fig_df_exp.add_annotation(text=\"Avg -Premium\", x=df_exp[\"Country\"].iloc[0], y=15.6,font_size=15, showarrow=False, xshift=-100)"
   ]
  },
  {
   "cell_type": "code",
   "execution_count": 132,
   "metadata": {},
   "outputs": [
    {
     "data": {
      "text/html": [
       "<div>\n",
       "<style scoped>\n",
       "    .dataframe tbody tr th:only-of-type {\n",
       "        vertical-align: middle;\n",
       "    }\n",
       "\n",
       "    .dataframe tbody tr th {\n",
       "        vertical-align: top;\n",
       "    }\n",
       "\n",
       "    .dataframe thead th {\n",
       "        text-align: right;\n",
       "    }\n",
       "</style>\n",
       "<table border=\"1\" class=\"dataframe\">\n",
       "  <thead>\n",
       "    <tr style=\"text-align: right;\">\n",
       "      <th></th>\n",
       "      <th>Country</th>\n",
       "      <th>basic_diff</th>\n",
       "      <th>std_diff</th>\n",
       "      <th>prem_diff</th>\n",
       "    </tr>\n",
       "  </thead>\n",
       "  <tbody>\n",
       "    <tr>\n",
       "      <th>0</th>\n",
       "      <td>Liechtenstein</td>\n",
       "      <td>4.52</td>\n",
       "      <td>8.56</td>\n",
       "      <td>11.30</td>\n",
       "    </tr>\n",
       "    <tr>\n",
       "      <th>1</th>\n",
       "      <td>Switzerland</td>\n",
       "      <td>4.52</td>\n",
       "      <td>8.56</td>\n",
       "      <td>11.30</td>\n",
       "    </tr>\n",
       "    <tr>\n",
       "      <th>2</th>\n",
       "      <td>Denmark</td>\n",
       "      <td>3.64</td>\n",
       "      <td>3.13</td>\n",
       "      <td>4.00</td>\n",
       "    </tr>\n",
       "    <tr>\n",
       "      <th>3</th>\n",
       "      <td>Belgium</td>\n",
       "      <td>1.80</td>\n",
       "      <td>3.34</td>\n",
       "      <td>4.72</td>\n",
       "    </tr>\n",
       "    <tr>\n",
       "      <th>4</th>\n",
       "      <td>France</td>\n",
       "      <td>1.80</td>\n",
       "      <td>3.34</td>\n",
       "      <td>4.72</td>\n",
       "    </tr>\n",
       "    <tr>\n",
       "      <th>5</th>\n",
       "      <td>Israel</td>\n",
       "      <td>2.20</td>\n",
       "      <td>3.15</td>\n",
       "      <td>3.93</td>\n",
       "    </tr>\n",
       "    <tr>\n",
       "      <th>6</th>\n",
       "      <td>Sweden</td>\n",
       "      <td>2.54</td>\n",
       "      <td>2.29</td>\n",
       "      <td>4.10</td>\n",
       "    </tr>\n",
       "    <tr>\n",
       "      <th>7</th>\n",
       "      <td>San Marino</td>\n",
       "      <td>0.66</td>\n",
       "      <td>2.76</td>\n",
       "      <td>4.72</td>\n",
       "    </tr>\n",
       "    <tr>\n",
       "      <th>8</th>\n",
       "      <td>Austria</td>\n",
       "      <td>0.66</td>\n",
       "      <td>2.76</td>\n",
       "      <td>4.72</td>\n",
       "    </tr>\n",
       "    <tr>\n",
       "      <th>9</th>\n",
       "      <td>Spain</td>\n",
       "      <td>0.66</td>\n",
       "      <td>2.76</td>\n",
       "      <td>4.72</td>\n",
       "    </tr>\n",
       "    <tr>\n",
       "      <th>10</th>\n",
       "      <td>Turkey</td>\n",
       "      <td>-6.30</td>\n",
       "      <td>-8.90</td>\n",
       "      <td>-11.00</td>\n",
       "    </tr>\n",
       "    <tr>\n",
       "      <th>11</th>\n",
       "      <td>India</td>\n",
       "      <td>-5.70</td>\n",
       "      <td>-5.20</td>\n",
       "      <td>-7.00</td>\n",
       "    </tr>\n",
       "    <tr>\n",
       "      <th>12</th>\n",
       "      <td>Argentina</td>\n",
       "      <td>-4.60</td>\n",
       "      <td>-5.60</td>\n",
       "      <td>-6.30</td>\n",
       "    </tr>\n",
       "    <tr>\n",
       "      <th>13</th>\n",
       "      <td>Colombia</td>\n",
       "      <td>-4.00</td>\n",
       "      <td>-5.00</td>\n",
       "      <td>-5.60</td>\n",
       "    </tr>\n",
       "    <tr>\n",
       "      <th>14</th>\n",
       "      <td>Brazil</td>\n",
       "      <td>-3.70</td>\n",
       "      <td>-4.70</td>\n",
       "      <td>-5.60</td>\n",
       "    </tr>\n",
       "    <tr>\n",
       "      <th>15</th>\n",
       "      <td>Ukraine</td>\n",
       "      <td>-2.70</td>\n",
       "      <td>-3.40</td>\n",
       "      <td>-4.30</td>\n",
       "    </tr>\n",
       "    <tr>\n",
       "      <th>16</th>\n",
       "      <td>Peru</td>\n",
       "      <td>-2.20</td>\n",
       "      <td>-3.30</td>\n",
       "      <td>-4.50</td>\n",
       "    </tr>\n",
       "    <tr>\n",
       "      <th>17</th>\n",
       "      <td>Philippines</td>\n",
       "      <td>-1.00</td>\n",
       "      <td>-2.70</td>\n",
       "      <td>-4.60</td>\n",
       "    </tr>\n",
       "    <tr>\n",
       "      <th>18</th>\n",
       "      <td>South Africa</td>\n",
       "      <td>-2.00</td>\n",
       "      <td>-1.80</td>\n",
       "      <td>-3.00</td>\n",
       "    </tr>\n",
       "    <tr>\n",
       "      <th>19</th>\n",
       "      <td>Chile</td>\n",
       "      <td>-1.20</td>\n",
       "      <td>-1.90</td>\n",
       "      <td>-2.80</td>\n",
       "    </tr>\n",
       "  </tbody>\n",
       "</table>\n",
       "</div>"
      ],
      "text/plain": [
       "          Country  basic_diff  std_diff  prem_diff\n",
       "0   Liechtenstein        4.52      8.56      11.30\n",
       "1     Switzerland        4.52      8.56      11.30\n",
       "2         Denmark        3.64      3.13       4.00\n",
       "3         Belgium        1.80      3.34       4.72\n",
       "4          France        1.80      3.34       4.72\n",
       "5          Israel        2.20      3.15       3.93\n",
       "6          Sweden        2.54      2.29       4.10\n",
       "7      San Marino        0.66      2.76       4.72\n",
       "8         Austria        0.66      2.76       4.72\n",
       "9           Spain        0.66      2.76       4.72\n",
       "10         Turkey       -6.30     -8.90     -11.00\n",
       "11          India       -5.70     -5.20      -7.00\n",
       "12      Argentina       -4.60     -5.60      -6.30\n",
       "13       Colombia       -4.00     -5.00      -5.60\n",
       "14         Brazil       -3.70     -4.70      -5.60\n",
       "15        Ukraine       -2.70     -3.40      -4.30\n",
       "16           Peru       -2.20     -3.30      -4.50\n",
       "17    Philippines       -1.00     -2.70      -4.60\n",
       "18   South Africa       -2.00     -1.80      -3.00\n",
       "19          Chile       -1.20     -1.90      -2.80"
      ]
     },
     "execution_count": 132,
     "metadata": {},
     "output_type": "execute_result"
    }
   ],
   "source": [
    "df_diff = df.sort_values(by=\"avg_cost\", ascending=False)[:10].append(df.sort_values(by=\"avg_cost\")[:10]).reset_index(drop=True)\n",
    "df_diff[[\"Country\",\"basic_diff\",\"std_diff\",\"prem_diff\"]]"
   ]
  },
  {
   "cell_type": "code",
   "execution_count": 219,
   "metadata": {},
   "outputs": [
    {
     "data": {
      "application/vnd.plotly.v1+json": {
       "config": {
        "plotlyServerURL": "https://plot.ly"
       },
       "data": [
        {
         "alignmentgroup": "True",
         "customdata": [
          [
           "Basic Difference: $0.66"
          ],
          [
           "Basic Difference: $0.66"
          ],
          [
           "Basic Difference: $0.66"
          ],
          [
           "Basic Difference: $2.54"
          ],
          [
           "Basic Difference: $2.2"
          ],
          [
           "Basic Difference: $1.8"
          ],
          [
           "Basic Difference: $1.8"
          ],
          [
           "Basic Difference: $3.64"
          ],
          [
           "Basic Difference: $4.52"
          ],
          [
           "Basic Difference: $4.52"
          ]
         ],
         "hovertemplate": "<b>%{customdata[0]}<b>",
         "legendgroup": "",
         "marker": {
          "color": "rgb(207,207,196)",
          "pattern": {
           "shape": ""
          }
         },
         "name": "",
         "offsetgroup": "",
         "orientation": "v",
         "showlegend": false,
         "textposition": "auto",
         "type": "bar",
         "x": [
          "Turkey",
          "India",
          "Argentina",
          "Colombia",
          "Brazil",
          "Ukraine",
          "Peru",
          "Philippines",
          "South Africa",
          "Chile"
         ],
         "xaxis": "x",
         "y": [
          -6.3,
          -5.7,
          -4.6,
          -4,
          -3.7,
          -2.7,
          -2.2,
          -1,
          -2,
          -1.2
         ],
         "yaxis": "y"
        },
        {
         "alignmentgroup": "True",
         "customdata": [
          [
           "Standard Difference: $2.76"
          ],
          [
           "Standard Difference: $2.76"
          ],
          [
           "Standard Difference: $2.76"
          ],
          [
           "Standard Difference: $2.29"
          ],
          [
           "Standard Difference: $3.15"
          ],
          [
           "Standard Difference: $3.34"
          ],
          [
           "Standard Difference: $3.34"
          ],
          [
           "Standard Difference: $3.13"
          ],
          [
           "Standard Difference: $8.56"
          ],
          [
           "Standard Difference: $8.56"
          ]
         ],
         "hovertemplate": "<b>%{customdata[0]}<b>",
         "legendgroup": "",
         "marker": {
          "color": "rgb(60,60,49)",
          "pattern": {
           "shape": ""
          }
         },
         "name": "",
         "offsetgroup": "",
         "orientation": "v",
         "showlegend": false,
         "textposition": "auto",
         "type": "bar",
         "x": [
          "Turkey",
          "India",
          "Argentina",
          "Colombia",
          "Brazil",
          "Ukraine",
          "Peru",
          "Philippines",
          "South Africa",
          "Chile"
         ],
         "xaxis": "x",
         "y": [
          -8.9,
          -5.2,
          -5.6,
          -5,
          -4.7,
          -3.4,
          -3.3,
          -2.7,
          -1.8,
          -1.9
         ],
         "yaxis": "y"
        },
        {
         "alignmentgroup": "True",
         "customdata": [
          [
           "Premium Difference: $4.72"
          ],
          [
           "Premium Difference: $4.72"
          ],
          [
           "Premium Difference: $4.72"
          ],
          [
           "Premium Difference: $4.1"
          ],
          [
           "Premium Difference: $3.93"
          ],
          [
           "Premium Difference: $4.72"
          ],
          [
           "Premium Difference: $4.72"
          ],
          [
           "Premium Difference: $4.0"
          ],
          [
           "Premium Difference: $11.3"
          ],
          [
           "Premium Difference: $11.3"
          ]
         ],
         "hovertemplate": "<b>%{customdata[0]}<b>",
         "legendgroup": "",
         "marker": {
          "color": "rgb(29,28,26)",
          "pattern": {
           "shape": ""
          }
         },
         "name": "",
         "offsetgroup": "",
         "orientation": "v",
         "showlegend": false,
         "textposition": "auto",
         "type": "bar",
         "x": [
          "Turkey",
          "India",
          "Argentina",
          "Colombia",
          "Brazil",
          "Ukraine",
          "Peru",
          "Philippines",
          "South Africa",
          "Chile"
         ],
         "xaxis": "x",
         "y": [
          -11,
          -7,
          -6.3,
          -5.6,
          -5.6,
          -4.3,
          -4.5,
          -4.6,
          -3,
          -2.8
         ],
         "yaxis": "y"
        },
        {
         "alignmentgroup": "True",
         "customdata": [
          [
           "Basic: $0.66"
          ],
          [
           "Basic: $0.66"
          ],
          [
           "Basic: $0.66"
          ],
          [
           "Basic: $2.54"
          ],
          [
           "Basic: $2.2"
          ],
          [
           "Basic: $1.8"
          ],
          [
           "Basic: $1.8"
          ],
          [
           "Basic: $3.64"
          ],
          [
           "Basic: $4.52"
          ],
          [
           "Basic: $4.52"
          ]
         ],
         "hovertemplate": "<b>%{customdata[0]}<b>",
         "legendgroup": "",
         "marker": {
          "color": "rgb(207,207,196)",
          "pattern": {
           "shape": ""
          }
         },
         "name": "",
         "offsetgroup": "",
         "orientation": "v",
         "showlegend": false,
         "textposition": "auto",
         "type": "bar",
         "x": [
          "San Marino",
          "Austria",
          "Spain",
          "Sweden",
          "Israel",
          "Belgium",
          "France",
          "Denmark",
          "Liechtenstein",
          "Switzerland"
         ],
         "xaxis": "x",
         "y": [
          0.66,
          0.66,
          0.66,
          2.54,
          2.2,
          1.8,
          1.8,
          3.64,
          4.52,
          4.52
         ],
         "yaxis": "y"
        },
        {
         "alignmentgroup": "True",
         "customdata": [
          [
           "Standard: $2.76"
          ],
          [
           "Standard: $2.76"
          ],
          [
           "Standard: $2.76"
          ],
          [
           "Standard: $2.29"
          ],
          [
           "Standard: $3.15"
          ],
          [
           "Standard: $3.34"
          ],
          [
           "Standard: $3.34"
          ],
          [
           "Standard: $3.13"
          ],
          [
           "Standard: $8.56"
          ],
          [
           "Standard: $8.56"
          ]
         ],
         "hovertemplate": "<b>%{customdata[0]}<b>",
         "legendgroup": "",
         "marker": {
          "color": "rgb(60,60,49)",
          "pattern": {
           "shape": ""
          }
         },
         "name": "",
         "offsetgroup": "",
         "orientation": "v",
         "showlegend": false,
         "textposition": "auto",
         "type": "bar",
         "x": [
          "San Marino",
          "Austria",
          "Spain",
          "Sweden",
          "Israel",
          "Belgium",
          "France",
          "Denmark",
          "Liechtenstein",
          "Switzerland"
         ],
         "xaxis": "x",
         "y": [
          2.76,
          2.76,
          2.76,
          2.29,
          3.15,
          3.34,
          3.34,
          3.13,
          8.56,
          8.56
         ],
         "yaxis": "y"
        },
        {
         "alignmentgroup": "True",
         "customdata": [
          [
           "Premium: $4.72"
          ],
          [
           "Premium: $4.72"
          ],
          [
           "Premium: $4.72"
          ],
          [
           "Premium: $4.1"
          ],
          [
           "Premium: $3.93"
          ],
          [
           "Premium: $4.72"
          ],
          [
           "Premium: $4.72"
          ],
          [
           "Premium: $4.0"
          ],
          [
           "Premium: $11.3"
          ],
          [
           "Premium: $11.3"
          ]
         ],
         "hovertemplate": "<b>%{customdata[0]}<b>",
         "legendgroup": "",
         "marker": {
          "color": "rgb(29,28,26)",
          "pattern": {
           "shape": ""
          }
         },
         "name": "",
         "offsetgroup": "",
         "orientation": "v",
         "showlegend": false,
         "textposition": "auto",
         "type": "bar",
         "x": [
          "San Marino",
          "Austria",
          "Spain",
          "Sweden",
          "Israel",
          "Belgium",
          "France",
          "Denmark",
          "Liechtenstein",
          "Switzerland"
         ],
         "xaxis": "x",
         "y": [
          4.72,
          4.72,
          4.72,
          4.1,
          3.93,
          4.72,
          4.72,
          4,
          11.3,
          11.3
         ],
         "yaxis": "y"
        }
       ],
       "layout": {
        "font": {
         "family": "Rockwell",
         "size": 15
        },
        "hoverlabel": {
         "bgcolor": "white",
         "font": {
          "color": "black",
          "family": "Rockwell",
          "size": 13
         }
        },
        "hovermode": "x unified",
        "images": [
         {
          "sizex": 0.25,
          "sizey": 0.25,
          "source": "https://upload.wikimedia.org/wikipedia/commons/thumb/f/ff/Netflix-new-icon.png/768px-Netflix-new-icon.png",
          "x": 0,
          "xanchor": "right",
          "xref": "paper",
          "y": 1.083,
          "yanchor": "bottom",
          "yref": "paper"
         }
        ],
        "legend": {
         "orientation": "h",
         "x": 0.5,
         "xanchor": "center",
         "y": 1,
         "yanchor": "bottom"
        },
        "template": {
         "data": {
          "bar": [
           {
            "error_x": {
             "color": "rgb(36,36,36)"
            },
            "error_y": {
             "color": "rgb(36,36,36)"
            },
            "marker": {
             "line": {
              "color": "white",
              "width": 0.5
             },
             "pattern": {
              "fillmode": "overlay",
              "size": 10,
              "solidity": 0.2
             }
            },
            "type": "bar"
           }
          ],
          "barpolar": [
           {
            "marker": {
             "line": {
              "color": "white",
              "width": 0.5
             },
             "pattern": {
              "fillmode": "overlay",
              "size": 10,
              "solidity": 0.2
             }
            },
            "type": "barpolar"
           }
          ],
          "carpet": [
           {
            "aaxis": {
             "endlinecolor": "rgb(36,36,36)",
             "gridcolor": "white",
             "linecolor": "white",
             "minorgridcolor": "white",
             "startlinecolor": "rgb(36,36,36)"
            },
            "baxis": {
             "endlinecolor": "rgb(36,36,36)",
             "gridcolor": "white",
             "linecolor": "white",
             "minorgridcolor": "white",
             "startlinecolor": "rgb(36,36,36)"
            },
            "type": "carpet"
           }
          ],
          "choropleth": [
           {
            "colorbar": {
             "outlinewidth": 1,
             "tickcolor": "rgb(36,36,36)",
             "ticks": "outside"
            },
            "type": "choropleth"
           }
          ],
          "contour": [
           {
            "colorbar": {
             "outlinewidth": 1,
             "tickcolor": "rgb(36,36,36)",
             "ticks": "outside"
            },
            "colorscale": [
             [
              0,
              "#440154"
             ],
             [
              0.1111111111111111,
              "#482878"
             ],
             [
              0.2222222222222222,
              "#3e4989"
             ],
             [
              0.3333333333333333,
              "#31688e"
             ],
             [
              0.4444444444444444,
              "#26828e"
             ],
             [
              0.5555555555555556,
              "#1f9e89"
             ],
             [
              0.6666666666666666,
              "#35b779"
             ],
             [
              0.7777777777777778,
              "#6ece58"
             ],
             [
              0.8888888888888888,
              "#b5de2b"
             ],
             [
              1,
              "#fde725"
             ]
            ],
            "type": "contour"
           }
          ],
          "contourcarpet": [
           {
            "colorbar": {
             "outlinewidth": 1,
             "tickcolor": "rgb(36,36,36)",
             "ticks": "outside"
            },
            "type": "contourcarpet"
           }
          ],
          "heatmap": [
           {
            "colorbar": {
             "outlinewidth": 1,
             "tickcolor": "rgb(36,36,36)",
             "ticks": "outside"
            },
            "colorscale": [
             [
              0,
              "#440154"
             ],
             [
              0.1111111111111111,
              "#482878"
             ],
             [
              0.2222222222222222,
              "#3e4989"
             ],
             [
              0.3333333333333333,
              "#31688e"
             ],
             [
              0.4444444444444444,
              "#26828e"
             ],
             [
              0.5555555555555556,
              "#1f9e89"
             ],
             [
              0.6666666666666666,
              "#35b779"
             ],
             [
              0.7777777777777778,
              "#6ece58"
             ],
             [
              0.8888888888888888,
              "#b5de2b"
             ],
             [
              1,
              "#fde725"
             ]
            ],
            "type": "heatmap"
           }
          ],
          "heatmapgl": [
           {
            "colorbar": {
             "outlinewidth": 1,
             "tickcolor": "rgb(36,36,36)",
             "ticks": "outside"
            },
            "colorscale": [
             [
              0,
              "#440154"
             ],
             [
              0.1111111111111111,
              "#482878"
             ],
             [
              0.2222222222222222,
              "#3e4989"
             ],
             [
              0.3333333333333333,
              "#31688e"
             ],
             [
              0.4444444444444444,
              "#26828e"
             ],
             [
              0.5555555555555556,
              "#1f9e89"
             ],
             [
              0.6666666666666666,
              "#35b779"
             ],
             [
              0.7777777777777778,
              "#6ece58"
             ],
             [
              0.8888888888888888,
              "#b5de2b"
             ],
             [
              1,
              "#fde725"
             ]
            ],
            "type": "heatmapgl"
           }
          ],
          "histogram": [
           {
            "marker": {
             "line": {
              "color": "white",
              "width": 0.6
             }
            },
            "type": "histogram"
           }
          ],
          "histogram2d": [
           {
            "colorbar": {
             "outlinewidth": 1,
             "tickcolor": "rgb(36,36,36)",
             "ticks": "outside"
            },
            "colorscale": [
             [
              0,
              "#440154"
             ],
             [
              0.1111111111111111,
              "#482878"
             ],
             [
              0.2222222222222222,
              "#3e4989"
             ],
             [
              0.3333333333333333,
              "#31688e"
             ],
             [
              0.4444444444444444,
              "#26828e"
             ],
             [
              0.5555555555555556,
              "#1f9e89"
             ],
             [
              0.6666666666666666,
              "#35b779"
             ],
             [
              0.7777777777777778,
              "#6ece58"
             ],
             [
              0.8888888888888888,
              "#b5de2b"
             ],
             [
              1,
              "#fde725"
             ]
            ],
            "type": "histogram2d"
           }
          ],
          "histogram2dcontour": [
           {
            "colorbar": {
             "outlinewidth": 1,
             "tickcolor": "rgb(36,36,36)",
             "ticks": "outside"
            },
            "colorscale": [
             [
              0,
              "#440154"
             ],
             [
              0.1111111111111111,
              "#482878"
             ],
             [
              0.2222222222222222,
              "#3e4989"
             ],
             [
              0.3333333333333333,
              "#31688e"
             ],
             [
              0.4444444444444444,
              "#26828e"
             ],
             [
              0.5555555555555556,
              "#1f9e89"
             ],
             [
              0.6666666666666666,
              "#35b779"
             ],
             [
              0.7777777777777778,
              "#6ece58"
             ],
             [
              0.8888888888888888,
              "#b5de2b"
             ],
             [
              1,
              "#fde725"
             ]
            ],
            "type": "histogram2dcontour"
           }
          ],
          "mesh3d": [
           {
            "colorbar": {
             "outlinewidth": 1,
             "tickcolor": "rgb(36,36,36)",
             "ticks": "outside"
            },
            "type": "mesh3d"
           }
          ],
          "parcoords": [
           {
            "line": {
             "colorbar": {
              "outlinewidth": 1,
              "tickcolor": "rgb(36,36,36)",
              "ticks": "outside"
             }
            },
            "type": "parcoords"
           }
          ],
          "pie": [
           {
            "automargin": true,
            "type": "pie"
           }
          ],
          "scatter": [
           {
            "marker": {
             "colorbar": {
              "outlinewidth": 1,
              "tickcolor": "rgb(36,36,36)",
              "ticks": "outside"
             }
            },
            "type": "scatter"
           }
          ],
          "scatter3d": [
           {
            "line": {
             "colorbar": {
              "outlinewidth": 1,
              "tickcolor": "rgb(36,36,36)",
              "ticks": "outside"
             }
            },
            "marker": {
             "colorbar": {
              "outlinewidth": 1,
              "tickcolor": "rgb(36,36,36)",
              "ticks": "outside"
             }
            },
            "type": "scatter3d"
           }
          ],
          "scattercarpet": [
           {
            "marker": {
             "colorbar": {
              "outlinewidth": 1,
              "tickcolor": "rgb(36,36,36)",
              "ticks": "outside"
             }
            },
            "type": "scattercarpet"
           }
          ],
          "scattergeo": [
           {
            "marker": {
             "colorbar": {
              "outlinewidth": 1,
              "tickcolor": "rgb(36,36,36)",
              "ticks": "outside"
             }
            },
            "type": "scattergeo"
           }
          ],
          "scattergl": [
           {
            "marker": {
             "colorbar": {
              "outlinewidth": 1,
              "tickcolor": "rgb(36,36,36)",
              "ticks": "outside"
             }
            },
            "type": "scattergl"
           }
          ],
          "scattermapbox": [
           {
            "marker": {
             "colorbar": {
              "outlinewidth": 1,
              "tickcolor": "rgb(36,36,36)",
              "ticks": "outside"
             }
            },
            "type": "scattermapbox"
           }
          ],
          "scatterpolar": [
           {
            "marker": {
             "colorbar": {
              "outlinewidth": 1,
              "tickcolor": "rgb(36,36,36)",
              "ticks": "outside"
             }
            },
            "type": "scatterpolar"
           }
          ],
          "scatterpolargl": [
           {
            "marker": {
             "colorbar": {
              "outlinewidth": 1,
              "tickcolor": "rgb(36,36,36)",
              "ticks": "outside"
             }
            },
            "type": "scatterpolargl"
           }
          ],
          "scatterternary": [
           {
            "marker": {
             "colorbar": {
              "outlinewidth": 1,
              "tickcolor": "rgb(36,36,36)",
              "ticks": "outside"
             }
            },
            "type": "scatterternary"
           }
          ],
          "surface": [
           {
            "colorbar": {
             "outlinewidth": 1,
             "tickcolor": "rgb(36,36,36)",
             "ticks": "outside"
            },
            "colorscale": [
             [
              0,
              "#440154"
             ],
             [
              0.1111111111111111,
              "#482878"
             ],
             [
              0.2222222222222222,
              "#3e4989"
             ],
             [
              0.3333333333333333,
              "#31688e"
             ],
             [
              0.4444444444444444,
              "#26828e"
             ],
             [
              0.5555555555555556,
              "#1f9e89"
             ],
             [
              0.6666666666666666,
              "#35b779"
             ],
             [
              0.7777777777777778,
              "#6ece58"
             ],
             [
              0.8888888888888888,
              "#b5de2b"
             ],
             [
              1,
              "#fde725"
             ]
            ],
            "type": "surface"
           }
          ],
          "table": [
           {
            "cells": {
             "fill": {
              "color": "rgb(237,237,237)"
             },
             "line": {
              "color": "white"
             }
            },
            "header": {
             "fill": {
              "color": "rgb(217,217,217)"
             },
             "line": {
              "color": "white"
             }
            },
            "type": "table"
           }
          ]
         },
         "layout": {
          "annotationdefaults": {
           "arrowhead": 0,
           "arrowwidth": 1
          },
          "autotypenumbers": "strict",
          "coloraxis": {
           "colorbar": {
            "outlinewidth": 1,
            "tickcolor": "rgb(36,36,36)",
            "ticks": "outside"
           }
          },
          "colorscale": {
           "diverging": [
            [
             0,
             "rgb(103,0,31)"
            ],
            [
             0.1,
             "rgb(178,24,43)"
            ],
            [
             0.2,
             "rgb(214,96,77)"
            ],
            [
             0.3,
             "rgb(244,165,130)"
            ],
            [
             0.4,
             "rgb(253,219,199)"
            ],
            [
             0.5,
             "rgb(247,247,247)"
            ],
            [
             0.6,
             "rgb(209,229,240)"
            ],
            [
             0.7,
             "rgb(146,197,222)"
            ],
            [
             0.8,
             "rgb(67,147,195)"
            ],
            [
             0.9,
             "rgb(33,102,172)"
            ],
            [
             1,
             "rgb(5,48,97)"
            ]
           ],
           "sequential": [
            [
             0,
             "#440154"
            ],
            [
             0.1111111111111111,
             "#482878"
            ],
            [
             0.2222222222222222,
             "#3e4989"
            ],
            [
             0.3333333333333333,
             "#31688e"
            ],
            [
             0.4444444444444444,
             "#26828e"
            ],
            [
             0.5555555555555556,
             "#1f9e89"
            ],
            [
             0.6666666666666666,
             "#35b779"
            ],
            [
             0.7777777777777778,
             "#6ece58"
            ],
            [
             0.8888888888888888,
             "#b5de2b"
            ],
            [
             1,
             "#fde725"
            ]
           ],
           "sequentialminus": [
            [
             0,
             "#440154"
            ],
            [
             0.1111111111111111,
             "#482878"
            ],
            [
             0.2222222222222222,
             "#3e4989"
            ],
            [
             0.3333333333333333,
             "#31688e"
            ],
            [
             0.4444444444444444,
             "#26828e"
            ],
            [
             0.5555555555555556,
             "#1f9e89"
            ],
            [
             0.6666666666666666,
             "#35b779"
            ],
            [
             0.7777777777777778,
             "#6ece58"
            ],
            [
             0.8888888888888888,
             "#b5de2b"
            ],
            [
             1,
             "#fde725"
            ]
           ]
          },
          "colorway": [
           "#1F77B4",
           "#FF7F0E",
           "#2CA02C",
           "#D62728",
           "#9467BD",
           "#8C564B",
           "#E377C2",
           "#7F7F7F",
           "#BCBD22",
           "#17BECF"
          ],
          "font": {
           "color": "rgb(36,36,36)"
          },
          "geo": {
           "bgcolor": "white",
           "lakecolor": "white",
           "landcolor": "white",
           "showlakes": true,
           "showland": true,
           "subunitcolor": "white"
          },
          "hoverlabel": {
           "align": "left"
          },
          "hovermode": "closest",
          "mapbox": {
           "style": "light"
          },
          "paper_bgcolor": "white",
          "plot_bgcolor": "white",
          "polar": {
           "angularaxis": {
            "gridcolor": "rgb(232,232,232)",
            "linecolor": "rgb(36,36,36)",
            "showgrid": false,
            "showline": true,
            "ticks": "outside"
           },
           "bgcolor": "white",
           "radialaxis": {
            "gridcolor": "rgb(232,232,232)",
            "linecolor": "rgb(36,36,36)",
            "showgrid": false,
            "showline": true,
            "ticks": "outside"
           }
          },
          "scene": {
           "xaxis": {
            "backgroundcolor": "white",
            "gridcolor": "rgb(232,232,232)",
            "gridwidth": 2,
            "linecolor": "rgb(36,36,36)",
            "showbackground": true,
            "showgrid": false,
            "showline": true,
            "ticks": "outside",
            "zeroline": false,
            "zerolinecolor": "rgb(36,36,36)"
           },
           "yaxis": {
            "backgroundcolor": "white",
            "gridcolor": "rgb(232,232,232)",
            "gridwidth": 2,
            "linecolor": "rgb(36,36,36)",
            "showbackground": true,
            "showgrid": false,
            "showline": true,
            "ticks": "outside",
            "zeroline": false,
            "zerolinecolor": "rgb(36,36,36)"
           },
           "zaxis": {
            "backgroundcolor": "white",
            "gridcolor": "rgb(232,232,232)",
            "gridwidth": 2,
            "linecolor": "rgb(36,36,36)",
            "showbackground": true,
            "showgrid": false,
            "showline": true,
            "ticks": "outside",
            "zeroline": false,
            "zerolinecolor": "rgb(36,36,36)"
           }
          },
          "shapedefaults": {
           "fillcolor": "black",
           "line": {
            "width": 0
           },
           "opacity": 0.3
          },
          "ternary": {
           "aaxis": {
            "gridcolor": "rgb(232,232,232)",
            "linecolor": "rgb(36,36,36)",
            "showgrid": false,
            "showline": true,
            "ticks": "outside"
           },
           "baxis": {
            "gridcolor": "rgb(232,232,232)",
            "linecolor": "rgb(36,36,36)",
            "showgrid": false,
            "showline": true,
            "ticks": "outside"
           },
           "bgcolor": "white",
           "caxis": {
            "gridcolor": "rgb(232,232,232)",
            "linecolor": "rgb(36,36,36)",
            "showgrid": false,
            "showline": true,
            "ticks": "outside"
           }
          },
          "title": {
           "x": 0.05
          },
          "xaxis": {
           "automargin": true,
           "gridcolor": "rgb(232,232,232)",
           "linecolor": "rgb(36,36,36)",
           "showgrid": false,
           "showline": true,
           "ticks": "outside",
           "title": {
            "standoff": 15
           },
           "zeroline": false,
           "zerolinecolor": "rgb(36,36,36)"
          },
          "yaxis": {
           "automargin": true,
           "gridcolor": "rgb(232,232,232)",
           "linecolor": "rgb(36,36,36)",
           "showgrid": false,
           "showline": true,
           "ticks": "outside",
           "title": {
            "standoff": 15
           },
           "zeroline": false,
           "zerolinecolor": "rgb(36,36,36)"
          }
         }
        },
        "title": {
         "text": "DIFFERENCE FROM AVERAGE COSTS",
         "x": 0.5
        },
        "xaxis": {
         "showline": false,
         "tickfont": {
          "size": 15
         }
        },
        "yaxis": {
         "visible": false
        }
       }
      }
     },
     "metadata": {},
     "output_type": "display_data"
    }
   ],
   "source": [
    "fig1 = px.bar(df_diff.tail(10),\n",
    "            x=\"Country\",\n",
    "            y=\"basic_diff\",\n",
    "            custom_data=[df_exp[\"basic_diff\"].apply(lambda x: \"Basic Difference: $\"+str(x))],\n",
    "            color_discrete_sequence=[\"rgb(207,207,196)\"])\n",
    "\n",
    "fig1.update_traces(hovertemplate=\"<br>\".join([\"<b>%{customdata[0]}<b>\"]))\n",
    "\n",
    "fig2 = px.bar(df_diff.tail(10),\n",
    "            x=\"Country\",\n",
    "            y=\"std_diff\",\n",
    "            custom_data=[df_exp[\"std_diff\"].apply(lambda x: \"Standard Difference: $\"+str(x))],\n",
    "            color_discrete_sequence=[\"rgb(60,60,49)\"])\n",
    "\n",
    "fig2.update_traces(hovertemplate=\"<br>\".join([\"<b>%{customdata[0]}<b>\"]))\n",
    "\n",
    "fig3 = px.bar(df_diff.tail(10),\n",
    "            x=\"Country\",\n",
    "            y=\"prem_diff\",\n",
    "            custom_data=[df_exp[\"prem_diff\"].apply(lambda x: \"Premium Difference: $\"+str(x))],\n",
    "            color_discrete_sequence=[\"rgb(29,28,26)\"])\n",
    "\n",
    "fig3.update_traces(hovertemplate=\"<br>\".join([\"<b>%{customdata[0]}<b>\"]))\n",
    "\n",
    "fig_1 = go.Figure(data=fig1.data+fig2.data+fig3.data)\n",
    "\n",
    "fig4 = px.bar(df_diff.head(10).sort_values(by=\"avg_cost\", ascending=True),\n",
    "            x=\"Country\",\n",
    "            y=\"basic_diff\",\n",
    "            custom_data=[df_exp[\"basic_diff\"].apply(lambda x: \"Basic: $\"+str(x))],\n",
    "            color_discrete_sequence=[\"rgb(207,207,196)\"])\n",
    "\n",
    "fig4.update_traces(hovertemplate=\"<br>\".join([\"<b>%{customdata[0]}<b>\"]))\n",
    "\n",
    "fig5 = px.bar(df_diff.head(10).sort_values(by=\"avg_cost\", ascending=True),\n",
    "            x=\"Country\",\n",
    "            y=\"std_diff\",\n",
    "            custom_data=[df_exp[\"std_diff\"].apply(lambda x: \"Standard: $\"+str(x))],\n",
    "            color_discrete_sequence=[\"rgb(60,60,49)\"])\n",
    "\n",
    "fig5.update_traces(hovertemplate=\"<br>\".join([\"<b>%{customdata[0]}<b>\"]))\n",
    "\n",
    "fig6 = px.bar(df_diff.head(10).sort_values(by=\"avg_cost\", ascending=True),\n",
    "            x=\"Country\",\n",
    "            y=\"prem_diff\",\n",
    "            custom_data=[df_exp[\"prem_diff\"].apply(lambda x: \"Premium: $\"+str(x))],\n",
    "            color_discrete_sequence=[\"rgb(29,28,26)\"])\n",
    "\n",
    "fig6.update_traces(hovertemplate=\"<br>\".join([\"<b>%{customdata[0]}<b>\"]))\n",
    "\n",
    "fig_2 = go.Figure(data=fig4.data+fig5.data+fig6.data)\n",
    "\n",
    "fig = go.Figure(data=fig_1.data+fig_2.data)\n",
    "\n",
    "fig.add_layout_image(\n",
    "    dict(\n",
    "        source=\"https://upload.wikimedia.org/wikipedia/commons/thumb/f/ff/Netflix-new-icon.png/768px-Netflix-new-icon.png\",\n",
    "        xref=\"paper\", yref=\"paper\",\n",
    "        x=0, y=1.083,\n",
    "        sizex=0.25, sizey=0.25,\n",
    "        xanchor=\"right\", yanchor=\"bottom\"\n",
    "    )\n",
    ")\n",
    "\n",
    "fig.update_layout(\n",
    "    hoverlabel=dict(\n",
    "        bgcolor=\"white\",\n",
    "        font_color=\"black\",\n",
    "        font_size=13,\n",
    "        font_family=\"Rockwell\"\n",
    "    )\n",
    ")\n",
    "\n",
    "fig.update_yaxes(visible=False)\n",
    "fig.update_xaxes(showline=False, tickfont=dict(size=15))\n",
    "\n",
    "fig.update_layout(hovermode=\"x unified\", template=\"simple_white\", title=\"DIFFERENCE FROM AVERAGE COSTS\")\n",
    "\n",
    "fig.update_layout(title_x=0.5,\n",
    "    font_family=\"Rockwell\",\n",
    "    font_size=15,\n",
    "    legend=dict(\n",
    "        orientation=\"h\", y=1, yanchor=\"bottom\", x=0.5, xanchor=\"center\"\n",
    "    )\n",
    ")\n",
    "\n",
    "fig.show()"
   ]
  }
 ],
 "metadata": {
  "interpreter": {
   "hash": "b534e2124af7077393f074e7b52eca72645c535c953d670bad1c7cb61116b561"
  },
  "kernelspec": {
   "display_name": "Python 3.10.0 ('minimal_ds')",
   "language": "python",
   "name": "python3"
  },
  "language_info": {
   "codemirror_mode": {
    "name": "ipython",
    "version": 3
   },
   "file_extension": ".py",
   "mimetype": "text/x-python",
   "name": "python",
   "nbconvert_exporter": "python",
   "pygments_lexer": "ipython3",
   "version": "3.10.0"
  },
  "orig_nbformat": 4
 },
 "nbformat": 4,
 "nbformat_minor": 2
}
